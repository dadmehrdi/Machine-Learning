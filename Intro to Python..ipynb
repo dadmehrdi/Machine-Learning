{
 "cells": [
  {
   "cell_type": "markdown",
   "metadata": {},
   "source": [
    "<br><br>\n",
    "<font color='FireBrick' size='10'><b> Intro to Python</b></font>"
   ]
  },
  {
   "cell_type": "markdown",
   "metadata": {},
   "source": [
    "<font color='Gray' size='3'><b> Friday 10/20 at 10:30-11:30am</b></font>"
   ]
  },
  {
   "cell_type": "markdown",
   "metadata": {},
   "source": [
    "# Ideal Python Workshop Outline\n",
    "\n",
    "## 1. Introduction\n",
    "- What is Python and why use it?\n",
    "- Overview of Python's strengths and applications (e.g., web development, data analysis, artificial intelligence, automation, etc.)\n",
    "\n",
    "## 2. Setting Up\n",
    "- Installing Python\n",
    "- Introduction to the Python interpreter and basic commands\n",
    "- Setting up an IDE (e.g., PyCharm, VS Code) or Notebook environments like Jupyter\n",
    "- Virtual environments and pip (package management)\n",
    "\n",
    "## 3. Basics of Python\n",
    "- Basic data types (integers, floats, strings, booleans)\n",
    "- Variables and assignments\n",
    "- Basic input and output (e.g., `print()`, `input()`)\n",
    "\n",
    "## 4. Control Structures\n",
    "- Conditional statements (`if`, `elif`, `else`)\n",
    "- Loops (`for`, `while`)\n",
    "- List comprehensions\n",
    "\n",
    "## 5. Data Structures\n",
    "- Lists\n",
    "- Tuples\n",
    "- Sets\n",
    "- Dictionaries\n",
    "\n",
    "## 6. Functions\n",
    "- Defining functions\n",
    "- Function parameters and return values\n",
    "- Anonymous functions (lambda)\n",
    "- Built-in functions\n",
    "\n",
    "## 7. Modules and Packages\n",
    "- Using built-in modules (e.g., `math`, `datetime`, `random`)\n",
    "- Installing and using external packages\n",
    "- Creating your own modules\n",
    "\n",
    "## 8. Exception Handling\n",
    "- `try`, `except`, `else`, and `finally`\n",
    "- Handling different exception types\n",
    "- Raising exceptions\n",
    "\n",
    "## 9. Object-Oriented Programming\n",
    "- Classes and Objects\n",
    "- Attributes and Methods\n",
    "- Inheritance and Polymorphism\n",
    "- Encapsulation and Abstraction\n",
    "\n",
    "## 10. Advanced Topics\n",
    "- File handling (reading and writing files)\n",
    "- Decorators and generators\n",
    "- Working with regular expressions\n",
    "- Basic networking with Python (e.g., using the `requests` library)\n",
    "\n",
    "## 11. Specialized Topics\n",
    "- Introduction to web development with Django or Flask\n",
    "- Data analysis with Pandas and visualization with Matplotlib\n",
    "- Introduction to machine learning with libraries like scikit-learn or TensorFlow\n",
    "\n",
    "## 12. Best Practices and Tips\n",
    "- Writing clean, readable code\n",
    "- Documenting your code\n",
    "- Basic debugging techniques\n",
    "\n",
    "## 13. Final Project or Challenge\n",
    "- Depending on the length of your workshop, it might be beneficial to conclude with a hands-on project or a set of challenges that allow participants to apply what they've learned.\n",
    "\n",
    "## 14. Conclusion and Next Steps\n",
    "- Recap of what was learned\n",
    "- Resources for further learning (books, online courses, websites, etc.)\n",
    "- Encouragement to join Python communities or user groups\n"
   ]
  },
  {
   "cell_type": "markdown",
   "metadata": {},
   "source": [
    "<br><br>\n",
    "<font color='FireBrick' size='7'><b> 1. Introduction</b></font>"
   ]
  },
  {
   "cell_type": "markdown",
   "metadata": {},
   "source": [
    "# Python vs R: A Comparative Overview\n",
    "\n",
    "Both Python and R are acclaimed languages in the data science community. While they share many capabilities, especially in statistical tasks, each has its areas of strength. This document seeks to highlight some of the areas where Python often has an edge.\n",
    "\n",
    "## 1. General-Purpose Language\n",
    "\n",
    "- Python is a versatile, general-purpose language. Beyond data analysis and visualization, Python is used for web development (with frameworks like Django and Flask), software development, automation, and even game development.\n",
    "- R, in contrast, was designed primarily for statistical analysis and plotting.\n",
    "\n",
    "## 2. Deep Learning and Machine Learning\n",
    "\n",
    "- Both languages have machine learning libraries, but Python is the de facto language for deep learning due to frameworks like TensorFlow, Keras, and PyTorch. \n",
    "- Python's `scikit-learn` is a highly popular toolkit for traditional machine learning.\n",
    "\n",
    "## 3. Libraries and Frameworks\n",
    "\n",
    "- Python boasts a broader set of libraries and frameworks that cater to various domains, from web scraping (BeautifulSoup, Scrapy) to automation (Selenium, Automate) and GUI development (Tkinter, PyQt).\n",
    "\n",
    "## 4. Integration and Web Applications\n",
    "\n",
    "- Python frequently powers APIs and web applications. Tools like Flask and Django allow for seamless transition from a data model in Python to a full-fledged web application.\n",
    "\n",
    "## 5. Community and Ecosystem\n",
    "\n",
    "- Python's vast and varied community means more libraries, third-party support, frequent updates, and quicker problem-solving.\n",
    "\n",
    "## 6. Automation and Scripting\n",
    "\n",
    "- Python is renowned for its scripting and automation capabilities, supported by a rich set of built-in and third-party libraries.\n",
    "\n",
    "## 7. System Integration\n",
    "\n",
    "- Python easily integrates with other languages like C, C++, and Java, making it valuable for system-level tasks.\n",
    "\n",
    "## 8. Popularity and Job Market\n",
    "\n",
    "- Surveys, such as the Stack Overflow Developer Surveys, consistently show Python as one of the most popular and fastest-growing languages, translating into a broad job market.\n",
    "\n",
    "It's worth noting that R has its unique strengths, especially in statistics, data visualization, and certain specialized data analyses. The choice between Python and R often depends on the specific task, personal or team preferences, and the existing ecosystem of tools and skills.\n"
   ]
  },
  {
   "cell_type": "markdown",
   "metadata": {},
   "source": [
    "<br><br>\n",
    "<font color='FireBrick' size='7'><b> 2. Setting Up</b></font>"
   ]
  },
  {
   "cell_type": "markdown",
   "metadata": {},
   "source": [
    "<font color='FireBrick' size='5'><b>Python Installation Guide</b></font>\n",
    "\n",
    "Python is a versatile, high-level programming language known for its simplicity and readability. Whether you're new to programming or an experienced developer, Python offers a lot to get started with.\n",
    "\n",
    "## Steps to Install:\n",
    "\n",
    "### 1. Download Python:\n",
    "- Navigate to the [Official Python Website](https://www.python.org/downloads/).\n",
    "- Depending on your operating system (Windows, macOS, or Linux), you'll find specific download links. Always opt for the latest Python 3.x version.\n",
    "\n",
    "### 2. Install Python:\n",
    "- **Windows**:\n",
    "  - Launch the downloaded executable.\n",
    "  - Ensure you check the box that says \"Add Python to PATH\" at the bottom of the installation window. This ensures that Python is accessible from any terminal or command prompt.\n",
    "  - Click on \"Install Now\". This will install Python and the `pip` package manager.\n",
    "  \n",
    "- **macOS**:\n",
    "  - Open the downloaded `.pkg` file and follow the on-screen instructions.\n",
    "  \n",
    "- **Linux**:\n",
    "  - Python is typically pre-installed on most Linux distributions. If not, or if you wish to install a different version, you can use your distribution's package manager (like `apt` for Ubuntu).\n",
    "  - Example for Ubuntu:\n",
    "    ```bash\n",
    "    sudo apt update\n",
    "    sudo apt install python3 python3-pip\n",
    "    ```\n",
    "\n",
    "### 3. Verify Installation:\n",
    "- Open a terminal or command prompt.\n",
    "- Enter `python --version` or `python3 --version` (especially on Linux and macOS). This should display the installed version of Python.\n",
    "- Also, check `pip` by entering `pip --version` or `pip3 --version`.\n",
    "\n",
    "## Post Installation Tips:\n",
    "- **Upgrade pip**: It's a good idea to ensure you have the latest version of `pip`, the Python package manager. Run:\n",
    "  ```bash\n",
    "  pip install --upgrade pip\n"
   ]
  },
  {
   "cell_type": "markdown",
   "metadata": {},
   "source": [
    "<font color='FireBrick' size='5'><b>Jupyter Notebook Installation using Anaconda</b></font>\n",
    "\n",
    "Python Installation Guide\n",
    "\n",
    "Anaconda is a popular distribution of Python and R, designed for scientific computing, data science, and machine learning. It offers an easy way to manage packages and ensures compatibility, especially in the data science realm.\n",
    "\n",
    "## Steps to Install:\n",
    "\n",
    "### 1. Download Anaconda:\n",
    "- Visit the [Anaconda Distribution page](https://www.anaconda.com/products/distribution).\n",
    "- Download the appropriate installer based on your operating system (Windows, macOS, or Linux) and your preferred Python version (usually Python 3.x).\n",
    "\n",
    "### 2. Install Anaconda:\n",
    "- Execute the installer and follow the on-screen instructions. \n",
    "- It's recommended to opt for adding Anaconda to your PATH during installation (especially for Windows users) unless you're familiar with managing environment variables.\n",
    "- The installation will include Python, Jupyter Notebook, and a suite of data science packages.\n",
    "\n",
    "### 3. Launch Jupyter Notebook:\n",
    "- Post-installation:\n",
    "  - **Windows**: Navigate to Start Menu > Anaconda3 (64-bit) > Jupyter Notebook\n",
    "  - **macOS and Linux**: Open a terminal and enter `jupyter notebook`.\n",
    "\n",
    "### 4. Using Anaconda Navigator (Optional):\n",
    "- Anaconda also provides a GUI called **Anaconda Navigator**. This interface allows for easy launching of Jupyter Notebooks, package management, updates, and more.\n",
    "  - **Windows**: Start Menu > Anaconda3 (64-bit) > Anaconda Navigator\n",
    "  - **macOS and Linux**: Open a terminal and type `anaconda-navigator`.\n",
    "\n",
    "## Benefits of Using Anaconda:\n",
    "- **Simplified Package Management**: Anaconda incorporates `conda`, a robust package manager capable of managing both Python and non-Python libraries with intricate dependencies.\n",
    "  \n",
    "- **Isolated Environments**: `conda` allows users to craft isolated environments for various projects, ensuring no version conflicts between libraries.\n",
    "\n",
    "- **Rich Ecosystem**: Over 1,500 data science packages are available by default with Anaconda. Additionally, thousands more can be accessed from the Anaconda repository, Anaconda Cloud, and other repositories.\n",
    "\n",
    "- **Integrated Tools**: Beyond Jupyter, Anaconda offers tools like Spyder (a Python IDE), RStudio (for R programming), and more.\n",
    "\n",
    "For individuals keen on data science, machine learning, or scientific computing with Python, Anaconda delivers a comprehensive experience with minimal setup challenges.\n"
   ]
  },
  {
   "cell_type": "markdown",
   "metadata": {},
   "source": [
    "<font color='FireBrick' size='7'><b> 3. Basics of Python</b></font>"
   ]
  },
  {
   "cell_type": "markdown",
   "metadata": {},
   "source": [
    "## Basic Python Syntax"
   ]
  },
  {
   "cell_type": "code",
   "execution_count": 29,
   "metadata": {},
   "outputs": [
    {
     "name": "stdout",
     "output_type": "stream",
     "text": [
      "Hello, World!\n"
     ]
    }
   ],
   "source": [
    "print(\"Hello, World!\")"
   ]
  },
  {
   "cell_type": "markdown",
   "metadata": {},
   "source": [
    "## Variables and Data Types"
   ]
  },
  {
   "cell_type": "code",
   "execution_count": 30,
   "metadata": {},
   "outputs": [],
   "source": [
    "x = 5\n",
    "name = \"John\"\n",
    "is_active = True"
   ]
  },
  {
   "cell_type": "markdown",
   "metadata": {},
   "source": [
    "## Basic Operators"
   ]
  },
  {
   "cell_type": "code",
   "execution_count": 31,
   "metadata": {},
   "outputs": [
    {
     "name": "stdout",
     "output_type": "stream",
     "text": [
      "24\n"
     ]
    }
   ],
   "source": [
    "a = 11\n",
    "b = 13\n",
    "sum_ab = a + b\n",
    "product_ab = a * b\n",
    "print(sum_ab)"
   ]
  },
  {
   "cell_type": "markdown",
   "metadata": {},
   "source": [
    "## Strings"
   ]
  },
  {
   "cell_type": "code",
   "execution_count": 32,
   "metadata": {},
   "outputs": [
    {
     "name": "stdout",
     "output_type": "stream",
     "text": [
      "Hello World\n",
      "5\n"
     ]
    }
   ],
   "source": [
    "hello = \"Hello\"\n",
    "world = \"World\"\n",
    "print(hello + \" \" + world)\n",
    "print(len(hello))"
   ]
  },
  {
   "cell_type": "markdown",
   "metadata": {},
   "source": [
    "## Lists"
   ]
  },
  {
   "cell_type": "code",
   "execution_count": 33,
   "metadata": {},
   "outputs": [
    {
     "name": "stdout",
     "output_type": "stream",
     "text": [
      "apple\n"
     ]
    }
   ],
   "source": [
    "fruits = [\"apple\", \"banana\", \"cherry\"]\n",
    "fruits.append(\"orange\")\n",
    "print(fruits[0])"
   ]
  },
  {
   "cell_type": "markdown",
   "metadata": {},
   "source": [
    "## Control Structures"
   ]
  },
  {
   "cell_type": "markdown",
   "metadata": {},
   "source": [
    "### Conditional statements"
   ]
  },
  {
   "cell_type": "code",
   "execution_count": 34,
   "metadata": {},
   "outputs": [
    {
     "name": "stdout",
     "output_type": "stream",
     "text": [
      "5 is greater than 3\n"
     ]
    }
   ],
   "source": [
    "if 5 > 3:\n",
    "    print(\"5 is greater than 3\")\n",
    "elif 5 == 3:\n",
    "    print(\"5 is equal to 3\")\n",
    "else:\n",
    "    print(\"5 is less than 3\")"
   ]
  },
  {
   "cell_type": "markdown",
   "metadata": {},
   "source": [
    "### Loops"
   ]
  },
  {
   "cell_type": "code",
   "execution_count": 35,
   "metadata": {},
   "outputs": [
    {
     "name": "stdout",
     "output_type": "stream",
     "text": [
      "apple\n",
      "banana\n",
      "cherry\n",
      "orange\n",
      "apple\n",
      "banana\n",
      "cherry\n",
      "orange\n"
     ]
    }
   ],
   "source": [
    "for fruit in fruits:\n",
    "    print(fruit)\n",
    "\n",
    "i = 0\n",
    "while i < len(fruits):\n",
    "    print(fruits[i])\n",
    "    i += 1"
   ]
  },
  {
   "cell_type": "markdown",
   "metadata": {},
   "source": [
    "### `zip` in a `for`"
   ]
  },
  {
   "cell_type": "code",
   "execution_count": 36,
   "metadata": {},
   "outputs": [
    {
     "name": "stdout",
     "output_type": "stream",
     "text": [
      "Alice is 25 years old.\n",
      "Bob is 30 years old.\n",
      "Charlie is 35 years old.\n"
     ]
    }
   ],
   "source": [
    "names = [\"Alice\", \"Bob\", \"Charlie\"]\n",
    "ages = [25, 30, 35]\n",
    "\n",
    "for name, age in zip(names, ages):\n",
    "    print(name, \"is\", age, \"years old.\")"
   ]
  },
  {
   "cell_type": "markdown",
   "metadata": {},
   "source": [
    "## Functions"
   ]
  },
  {
   "cell_type": "code",
   "execution_count": 37,
   "metadata": {},
   "outputs": [
    {
     "name": "stdout",
     "output_type": "stream",
     "text": [
      "Hello, Alice!\n"
     ]
    }
   ],
   "source": [
    "def greet(name):\n",
    "    return \"Hello, \" + name + \"!\"\n",
    "\n",
    "print(greet(\"Alice\"))"
   ]
  },
  {
   "cell_type": "markdown",
   "metadata": {},
   "source": [
    "### Recursive Factorial Function"
   ]
  },
  {
   "cell_type": "code",
   "execution_count": 38,
   "metadata": {},
   "outputs": [
    {
     "name": "stdout",
     "output_type": "stream",
     "text": [
      "The factorial of 7 is: 5040\n"
     ]
    }
   ],
   "source": [
    "def my_lovely_factorial(n):\n",
    "    if n == 0:\n",
    "        return 1\n",
    "    else:\n",
    "        return n * my_lovely_factorial(n-1)\n",
    "\n",
    "\n",
    "number = 7\n",
    "print(f\"The factorial of {number} is: {my_lovely_factorial(number)}\")"
   ]
  },
  {
   "cell_type": "markdown",
   "metadata": {},
   "source": [
    "**NOTE**: In the print function, the `f` before the string signifies an f-string, which is a feature introduced in Python 3.6 and later. It's used for string formatting.\n",
    "\n",
    "When you use an f-string, you can embed expressions inside string literals, using {}. The expressions inside {} are evaluated at runtime and then formatted using the specified format string."
   ]
  },
  {
   "cell_type": "markdown",
   "metadata": {},
   "source": [
    "## Dictionaries"
   ]
  },
  {
   "cell_type": "code",
   "execution_count": 39,
   "metadata": {},
   "outputs": [
    {
     "name": "stdout",
     "output_type": "stream",
     "text": [
      "{'age': 30, 'is_active': True}\n"
     ]
    }
   ],
   "source": [
    "person = {\n",
    "    \"name\": \"John\",\n",
    "    \"age\": 30,\n",
    "    \"is_active\": True\n",
    "}\n",
    "\n",
    "people = {\n",
    "    \"John\": {\n",
    "        \"age\": 30,\n",
    "        \"is_active\": True\n",
    "    },\n",
    "    \"Aly\": {\n",
    "        \"age\": 27,\n",
    "        \"is_active\": False\n",
    "    }\n",
    "}\n",
    "\n",
    "print(people[\"John\"])"
   ]
  },
  {
   "cell_type": "markdown",
   "metadata": {},
   "source": [
    "## Handling Errors (Try-Except)"
   ]
  },
  {
   "cell_type": "code",
   "execution_count": 40,
   "metadata": {},
   "outputs": [
    {
     "ename": "NameError",
     "evalue": "name 'non_existent_variable' is not defined",
     "output_type": "error",
     "traceback": [
      "\u001b[0;31m---------------------------------------------------------------------------\u001b[0m",
      "\u001b[0;31mNameError\u001b[0m                                 Traceback (most recent call last)",
      "Cell \u001b[0;32mIn[40], line 1\u001b[0m\n\u001b[0;32m----> 1\u001b[0m \u001b[38;5;28mprint\u001b[39m(non_existent_variable)\n",
      "\u001b[0;31mNameError\u001b[0m: name 'non_existent_variable' is not defined"
     ]
    }
   ],
   "source": [
    "print(non_existent_variable)"
   ]
  },
  {
   "cell_type": "code",
   "execution_count": 41,
   "metadata": {},
   "outputs": [
    {
     "name": "stdout",
     "output_type": "stream",
     "text": [
      "Variable is not defined; It's okay to not be okay. :)\n"
     ]
    }
   ],
   "source": [
    "try:\n",
    "    print(non_existent_variable)\n",
    "except NameError:\n",
    "    print(\"Variable is not defined; It's okay to not be okay. :)\")"
   ]
  },
  {
   "cell_type": "markdown",
   "metadata": {},
   "source": [
    "## Classes and Objects"
   ]
  },
  {
   "cell_type": "code",
   "execution_count": 42,
   "metadata": {},
   "outputs": [
    {
     "name": "stdout",
     "output_type": "stream",
     "text": [
      "This is a red Toyota car\n"
     ]
    }
   ],
   "source": [
    "class Car:\n",
    "    def __init__(self, color, brand):\n",
    "        self.color = color\n",
    "        self.brand = brand\n",
    "\n",
    "    def display(self):\n",
    "        print(f\"This is a {self.color} {self.brand} car\")\n",
    "\n",
    "my_car = Car(\"red\", \"Toyota\")\n",
    "my_car.display()"
   ]
  },
  {
   "cell_type": "markdown",
   "metadata": {},
   "source": [
    "## File Handling"
   ]
  },
  {
   "cell_type": "code",
   "execution_count": 43,
   "metadata": {},
   "outputs": [],
   "source": [
    "with open(\"sample.txt\", \"w\") as file:\n",
    "    file.write(\"Hello, World!\")"
   ]
  },
  {
   "cell_type": "markdown",
   "metadata": {},
   "source": [
    "# Distinction between `pip` and `!pip` in Jupyter\n",
    "\n",
    "When working within a Jupyter environment, you might come across two ways to install Python packages using `pip`: \n",
    "\n",
    "1. **pip**:\n",
    "    - This is the standard command you'd use in a terminal or command prompt to install Python packages.\n",
    "    - In many Jupyter environments, `pip` commands can be executed directly without any prefix, for convenience.\n",
    "    - **Example**:\n",
    "    ```python\n",
    "    pip install us\n",
    "    ```\n",
    "\n",
    "2. **!pip**:\n",
    "    - The exclamation mark `!` is a way to run shell commands from within the Jupyter environment.\n",
    "    - This is an explicit way to tell Jupyter that you're running a shell command.\n",
    "    - **Example**:\n",
    "    ```python\n",
    "    !pip install us\n",
    "    ```\n",
    "\n",
    "### Note:\n",
    "Both methods will achieve the same result, which is to install the specified package. The `!` prefix is specific to Jupyter and a few other interactive environments, allowing you to run shell commands alongside Python code.\n",
    "\n",
    "Outside of Jupyter, in a standard terminal or command prompt on any operating system (Windows, macOS, or Linux), you'd just use `pip install <package-name>` without the `!` prefix.\n"
   ]
  },
  {
   "cell_type": "markdown",
   "metadata": {},
   "source": [
    "# Installing Packages in Jupyter Notebook"
   ]
  },
  {
   "cell_type": "code",
   "execution_count": 44,
   "metadata": {},
   "outputs": [
    {
     "name": "stdout",
     "output_type": "stream",
     "text": [
      "Requirement already satisfied: requests in /Users/dadmehr/anaconda3/lib/python3.11/site-packages (2.31.0)\n",
      "Requirement already satisfied: charset-normalizer<4,>=2 in /Users/dadmehr/anaconda3/lib/python3.11/site-packages (from requests) (2.0.4)\n",
      "Requirement already satisfied: idna<4,>=2.5 in /Users/dadmehr/anaconda3/lib/python3.11/site-packages (from requests) (3.4)\n",
      "Requirement already satisfied: urllib3<3,>=1.21.1 in /Users/dadmehr/anaconda3/lib/python3.11/site-packages (from requests) (1.26.16)\n",
      "Requirement already satisfied: certifi>=2017.4.17 in /Users/dadmehr/anaconda3/lib/python3.11/site-packages (from requests) (2023.7.22)\n",
      "Requirement already satisfied: tqdm in /Users/dadmehr/anaconda3/lib/python3.11/site-packages (4.65.0)\n",
      "Requirement already satisfied: numpy in /Users/dadmehr/anaconda3/lib/python3.11/site-packages (1.24.3)\n",
      "Requirement already satisfied: pandas in /Users/dadmehr/anaconda3/lib/python3.11/site-packages (1.5.3)\n",
      "Requirement already satisfied: python-dateutil>=2.8.1 in /Users/dadmehr/anaconda3/lib/python3.11/site-packages (from pandas) (2.8.2)\n",
      "Requirement already satisfied: pytz>=2020.1 in /Users/dadmehr/anaconda3/lib/python3.11/site-packages (from pandas) (2022.7)\n",
      "Requirement already satisfied: numpy>=1.21.0 in /Users/dadmehr/anaconda3/lib/python3.11/site-packages (from pandas) (1.24.3)\n",
      "Requirement already satisfied: six>=1.5 in /Users/dadmehr/anaconda3/lib/python3.11/site-packages (from python-dateutil>=2.8.1->pandas) (1.16.0)\n",
      "Requirement already satisfied: openpyxl in /Users/dadmehr/anaconda3/lib/python3.11/site-packages (3.0.10)\n",
      "Requirement already satisfied: et_xmlfile in /Users/dadmehr/anaconda3/lib/python3.11/site-packages (from openpyxl) (1.1.0)\n",
      "Requirement already satisfied: matplotlib in /Users/dadmehr/anaconda3/lib/python3.11/site-packages (3.7.1)\n",
      "Requirement already satisfied: contourpy>=1.0.1 in /Users/dadmehr/anaconda3/lib/python3.11/site-packages (from matplotlib) (1.0.5)\n",
      "Requirement already satisfied: cycler>=0.10 in /Users/dadmehr/anaconda3/lib/python3.11/site-packages (from matplotlib) (0.11.0)\n",
      "Requirement already satisfied: fonttools>=4.22.0 in /Users/dadmehr/anaconda3/lib/python3.11/site-packages (from matplotlib) (4.25.0)\n",
      "Requirement already satisfied: kiwisolver>=1.0.1 in /Users/dadmehr/anaconda3/lib/python3.11/site-packages (from matplotlib) (1.4.4)\n",
      "Requirement already satisfied: numpy>=1.20 in /Users/dadmehr/anaconda3/lib/python3.11/site-packages (from matplotlib) (1.24.3)\n",
      "Requirement already satisfied: packaging>=20.0 in /Users/dadmehr/anaconda3/lib/python3.11/site-packages (from matplotlib) (23.0)\n",
      "Requirement already satisfied: pillow>=6.2.0 in /Users/dadmehr/anaconda3/lib/python3.11/site-packages (from matplotlib) (9.4.0)\n",
      "Requirement already satisfied: pyparsing>=2.3.1 in /Users/dadmehr/anaconda3/lib/python3.11/site-packages (from matplotlib) (3.0.9)\n",
      "Requirement already satisfied: python-dateutil>=2.7 in /Users/dadmehr/anaconda3/lib/python3.11/site-packages (from matplotlib) (2.8.2)\n",
      "Requirement already satisfied: six>=1.5 in /Users/dadmehr/anaconda3/lib/python3.11/site-packages (from python-dateutil>=2.7->matplotlib) (1.16.0)\n",
      "Requirement already satisfied: seaborn in /Users/dadmehr/anaconda3/lib/python3.11/site-packages (0.12.2)\n",
      "Requirement already satisfied: numpy!=1.24.0,>=1.17 in /Users/dadmehr/anaconda3/lib/python3.11/site-packages (from seaborn) (1.24.3)\n",
      "Requirement already satisfied: pandas>=0.25 in /Users/dadmehr/anaconda3/lib/python3.11/site-packages (from seaborn) (1.5.3)\n",
      "Requirement already satisfied: matplotlib!=3.6.1,>=3.1 in /Users/dadmehr/anaconda3/lib/python3.11/site-packages (from seaborn) (3.7.1)\n",
      "Requirement already satisfied: contourpy>=1.0.1 in /Users/dadmehr/anaconda3/lib/python3.11/site-packages (from matplotlib!=3.6.1,>=3.1->seaborn) (1.0.5)\n",
      "Requirement already satisfied: cycler>=0.10 in /Users/dadmehr/anaconda3/lib/python3.11/site-packages (from matplotlib!=3.6.1,>=3.1->seaborn) (0.11.0)\n",
      "Requirement already satisfied: fonttools>=4.22.0 in /Users/dadmehr/anaconda3/lib/python3.11/site-packages (from matplotlib!=3.6.1,>=3.1->seaborn) (4.25.0)\n",
      "Requirement already satisfied: kiwisolver>=1.0.1 in /Users/dadmehr/anaconda3/lib/python3.11/site-packages (from matplotlib!=3.6.1,>=3.1->seaborn) (1.4.4)\n",
      "Requirement already satisfied: packaging>=20.0 in /Users/dadmehr/anaconda3/lib/python3.11/site-packages (from matplotlib!=3.6.1,>=3.1->seaborn) (23.0)\n",
      "Requirement already satisfied: pillow>=6.2.0 in /Users/dadmehr/anaconda3/lib/python3.11/site-packages (from matplotlib!=3.6.1,>=3.1->seaborn) (9.4.0)\n",
      "Requirement already satisfied: pyparsing>=2.3.1 in /Users/dadmehr/anaconda3/lib/python3.11/site-packages (from matplotlib!=3.6.1,>=3.1->seaborn) (3.0.9)\n",
      "Requirement already satisfied: python-dateutil>=2.7 in /Users/dadmehr/anaconda3/lib/python3.11/site-packages (from matplotlib!=3.6.1,>=3.1->seaborn) (2.8.2)\n",
      "Requirement already satisfied: pytz>=2020.1 in /Users/dadmehr/anaconda3/lib/python3.11/site-packages (from pandas>=0.25->seaborn) (2022.7)\n",
      "Requirement already satisfied: six>=1.5 in /Users/dadmehr/anaconda3/lib/python3.11/site-packages (from python-dateutil>=2.7->matplotlib!=3.6.1,>=3.1->seaborn) (1.16.0)\n",
      "Requirement already satisfied: beautifulsoup4 in /Users/dadmehr/anaconda3/lib/python3.11/site-packages (4.12.2)\n",
      "Requirement already satisfied: soupsieve>1.2 in /Users/dadmehr/anaconda3/lib/python3.11/site-packages (from beautifulsoup4) (2.4)\n",
      "Requirement already satisfied: scrapy in /Users/dadmehr/anaconda3/lib/python3.11/site-packages (2.8.0)\n",
      "Requirement already satisfied: Twisted>=18.9.0 in /Users/dadmehr/anaconda3/lib/python3.11/site-packages (from scrapy) (22.10.0)\n",
      "Requirement already satisfied: cryptography>=3.4.6 in /Users/dadmehr/anaconda3/lib/python3.11/site-packages (from scrapy) (39.0.1)\n",
      "Requirement already satisfied: cssselect>=0.9.1 in /Users/dadmehr/anaconda3/lib/python3.11/site-packages (from scrapy) (1.1.0)\n",
      "Requirement already satisfied: itemloaders>=1.0.1 in /Users/dadmehr/anaconda3/lib/python3.11/site-packages (from scrapy) (1.0.4)\n",
      "Requirement already satisfied: parsel>=1.5.0 in /Users/dadmehr/anaconda3/lib/python3.11/site-packages (from scrapy) (1.6.0)\n",
      "Requirement already satisfied: pyOpenSSL>=21.0.0 in /Users/dadmehr/anaconda3/lib/python3.11/site-packages (from scrapy) (23.2.0)\n",
      "Requirement already satisfied: queuelib>=1.4.2 in /Users/dadmehr/anaconda3/lib/python3.11/site-packages (from scrapy) (1.5.0)\n",
      "Requirement already satisfied: service-identity>=18.1.0 in /Users/dadmehr/anaconda3/lib/python3.11/site-packages (from scrapy) (18.1.0)\n",
      "Requirement already satisfied: w3lib>=1.17.0 in /Users/dadmehr/anaconda3/lib/python3.11/site-packages (from scrapy) (1.21.0)\n",
      "Requirement already satisfied: zope.interface>=5.1.0 in /Users/dadmehr/anaconda3/lib/python3.11/site-packages (from scrapy) (5.4.0)\n",
      "Requirement already satisfied: protego>=0.1.15 in /Users/dadmehr/anaconda3/lib/python3.11/site-packages (from scrapy) (0.1.16)\n",
      "Requirement already satisfied: itemadapter>=0.1.0 in /Users/dadmehr/anaconda3/lib/python3.11/site-packages (from scrapy) (0.3.0)\n",
      "Requirement already satisfied: setuptools in /Users/dadmehr/anaconda3/lib/python3.11/site-packages (from scrapy) (68.0.0)\n",
      "Requirement already satisfied: packaging in /Users/dadmehr/anaconda3/lib/python3.11/site-packages (from scrapy) (23.0)\n",
      "Requirement already satisfied: tldextract in /Users/dadmehr/anaconda3/lib/python3.11/site-packages (from scrapy) (3.2.0)\n",
      "Requirement already satisfied: lxml>=4.3.0 in /Users/dadmehr/anaconda3/lib/python3.11/site-packages (from scrapy) (4.9.2)\n",
      "Requirement already satisfied: PyDispatcher>=2.0.5 in /Users/dadmehr/anaconda3/lib/python3.11/site-packages (from scrapy) (2.0.5)\n",
      "Requirement already satisfied: cffi>=1.12 in /Users/dadmehr/anaconda3/lib/python3.11/site-packages (from cryptography>=3.4.6->scrapy) (1.15.1)\n",
      "Requirement already satisfied: jmespath>=0.9.5 in /Users/dadmehr/anaconda3/lib/python3.11/site-packages (from itemloaders>=1.0.1->scrapy) (0.10.0)\n",
      "Requirement already satisfied: six>=1.6.0 in /Users/dadmehr/anaconda3/lib/python3.11/site-packages (from parsel>=1.5.0->scrapy) (1.16.0)\n",
      "Requirement already satisfied: attrs>=16.0.0 in /Users/dadmehr/anaconda3/lib/python3.11/site-packages (from service-identity>=18.1.0->scrapy) (22.1.0)\n",
      "Requirement already satisfied: pyasn1-modules in /Users/dadmehr/anaconda3/lib/python3.11/site-packages (from service-identity>=18.1.0->scrapy) (0.2.8)\n",
      "Requirement already satisfied: pyasn1 in /Users/dadmehr/anaconda3/lib/python3.11/site-packages (from service-identity>=18.1.0->scrapy) (0.4.8)\n"
     ]
    },
    {
     "name": "stdout",
     "output_type": "stream",
     "text": [
      "Requirement already satisfied: constantly>=15.1 in /Users/dadmehr/anaconda3/lib/python3.11/site-packages (from Twisted>=18.9.0->scrapy) (15.1.0)\n",
      "Requirement already satisfied: incremental>=21.3.0 in /Users/dadmehr/anaconda3/lib/python3.11/site-packages (from Twisted>=18.9.0->scrapy) (21.3.0)\n",
      "Requirement already satisfied: Automat>=0.8.0 in /Users/dadmehr/anaconda3/lib/python3.11/site-packages (from Twisted>=18.9.0->scrapy) (20.2.0)\n",
      "Requirement already satisfied: hyperlink>=17.1.1 in /Users/dadmehr/anaconda3/lib/python3.11/site-packages (from Twisted>=18.9.0->scrapy) (21.0.0)\n",
      "Requirement already satisfied: typing-extensions>=3.6.5 in /Users/dadmehr/anaconda3/lib/python3.11/site-packages (from Twisted>=18.9.0->scrapy) (4.8.0)\n",
      "Requirement already satisfied: idna in /Users/dadmehr/anaconda3/lib/python3.11/site-packages (from tldextract->scrapy) (3.4)\n",
      "Requirement already satisfied: requests>=2.1.0 in /Users/dadmehr/anaconda3/lib/python3.11/site-packages (from tldextract->scrapy) (2.31.0)\n",
      "Requirement already satisfied: requests-file>=1.4 in /Users/dadmehr/anaconda3/lib/python3.11/site-packages (from tldextract->scrapy) (1.5.1)\n",
      "Requirement already satisfied: filelock>=3.0.8 in /Users/dadmehr/anaconda3/lib/python3.11/site-packages (from tldextract->scrapy) (3.9.0)\n",
      "Requirement already satisfied: pycparser in /Users/dadmehr/anaconda3/lib/python3.11/site-packages (from cffi>=1.12->cryptography>=3.4.6->scrapy) (2.21)\n",
      "Requirement already satisfied: charset-normalizer<4,>=2 in /Users/dadmehr/anaconda3/lib/python3.11/site-packages (from requests>=2.1.0->tldextract->scrapy) (2.0.4)\n",
      "Requirement already satisfied: urllib3<3,>=1.21.1 in /Users/dadmehr/anaconda3/lib/python3.11/site-packages (from requests>=2.1.0->tldextract->scrapy) (1.26.16)\n",
      "Requirement already satisfied: certifi>=2017.4.17 in /Users/dadmehr/anaconda3/lib/python3.11/site-packages (from requests>=2.1.0->tldextract->scrapy) (2023.7.22)\n",
      "Requirement already satisfied: scikit-learn in /Users/dadmehr/anaconda3/lib/python3.11/site-packages (1.2.2)\n",
      "Requirement already satisfied: numpy>=1.17.3 in /Users/dadmehr/anaconda3/lib/python3.11/site-packages (from scikit-learn) (1.24.3)\n",
      "Requirement already satisfied: scipy>=1.3.2 in /Users/dadmehr/anaconda3/lib/python3.11/site-packages (from scikit-learn) (1.10.1)\n",
      "Requirement already satisfied: joblib>=1.1.1 in /Users/dadmehr/anaconda3/lib/python3.11/site-packages (from scikit-learn) (1.2.0)\n",
      "Requirement already satisfied: threadpoolctl>=2.0.0 in /Users/dadmehr/anaconda3/lib/python3.11/site-packages (from scikit-learn) (2.2.0)\n",
      "Requirement already satisfied: statsmodels in /Users/dadmehr/anaconda3/lib/python3.11/site-packages (0.14.0)\n",
      "Requirement already satisfied: numpy>=1.18 in /Users/dadmehr/anaconda3/lib/python3.11/site-packages (from statsmodels) (1.24.3)\n",
      "Requirement already satisfied: scipy!=1.9.2,>=1.4 in /Users/dadmehr/anaconda3/lib/python3.11/site-packages (from statsmodels) (1.10.1)\n",
      "Requirement already satisfied: pandas>=1.0 in /Users/dadmehr/anaconda3/lib/python3.11/site-packages (from statsmodels) (1.5.3)\n",
      "Requirement already satisfied: patsy>=0.5.2 in /Users/dadmehr/anaconda3/lib/python3.11/site-packages (from statsmodels) (0.5.3)\n",
      "Requirement already satisfied: packaging>=21.3 in /Users/dadmehr/anaconda3/lib/python3.11/site-packages (from statsmodels) (23.0)\n",
      "Requirement already satisfied: python-dateutil>=2.8.1 in /Users/dadmehr/anaconda3/lib/python3.11/site-packages (from pandas>=1.0->statsmodels) (2.8.2)\n",
      "Requirement already satisfied: pytz>=2020.1 in /Users/dadmehr/anaconda3/lib/python3.11/site-packages (from pandas>=1.0->statsmodels) (2022.7)\n",
      "Requirement already satisfied: six in /Users/dadmehr/anaconda3/lib/python3.11/site-packages (from patsy>=0.5.2->statsmodels) (1.16.0)\n",
      "Requirement already satisfied: tensorflow in /Users/dadmehr/anaconda3/lib/python3.11/site-packages (2.13.0)\n",
      "Requirement already satisfied: tensorflow-macos==2.13.0 in /Users/dadmehr/anaconda3/lib/python3.11/site-packages (from tensorflow) (2.13.0)\n",
      "Requirement already satisfied: absl-py>=1.0.0 in /Users/dadmehr/anaconda3/lib/python3.11/site-packages (from tensorflow-macos==2.13.0->tensorflow) (2.0.0)\n",
      "Requirement already satisfied: astunparse>=1.6.0 in /Users/dadmehr/anaconda3/lib/python3.11/site-packages (from tensorflow-macos==2.13.0->tensorflow) (1.6.3)\n",
      "Requirement already satisfied: flatbuffers>=23.1.21 in /Users/dadmehr/anaconda3/lib/python3.11/site-packages (from tensorflow-macos==2.13.0->tensorflow) (23.5.26)\n",
      "Requirement already satisfied: gast<=0.4.0,>=0.2.1 in /Users/dadmehr/anaconda3/lib/python3.11/site-packages (from tensorflow-macos==2.13.0->tensorflow) (0.4.0)\n",
      "Requirement already satisfied: google-pasta>=0.1.1 in /Users/dadmehr/anaconda3/lib/python3.11/site-packages (from tensorflow-macos==2.13.0->tensorflow) (0.2.0)\n",
      "Requirement already satisfied: h5py>=2.9.0 in /Users/dadmehr/anaconda3/lib/python3.11/site-packages (from tensorflow-macos==2.13.0->tensorflow) (3.7.0)\n",
      "Requirement already satisfied: libclang>=13.0.0 in /Users/dadmehr/anaconda3/lib/python3.11/site-packages (from tensorflow-macos==2.13.0->tensorflow) (16.0.6)\n",
      "Requirement already satisfied: numpy<=1.24.3,>=1.22 in /Users/dadmehr/anaconda3/lib/python3.11/site-packages (from tensorflow-macos==2.13.0->tensorflow) (1.24.3)\n",
      "Requirement already satisfied: opt-einsum>=2.3.2 in /Users/dadmehr/anaconda3/lib/python3.11/site-packages (from tensorflow-macos==2.13.0->tensorflow) (3.3.0)\n",
      "Requirement already satisfied: packaging in /Users/dadmehr/anaconda3/lib/python3.11/site-packages (from tensorflow-macos==2.13.0->tensorflow) (23.0)\n",
      "Requirement already satisfied: protobuf!=4.21.0,!=4.21.1,!=4.21.2,!=4.21.3,!=4.21.4,!=4.21.5,<5.0.0dev,>=3.20.3 in /Users/dadmehr/anaconda3/lib/python3.11/site-packages (from tensorflow-macos==2.13.0->tensorflow) (4.24.3)\n",
      "Requirement already satisfied: setuptools in /Users/dadmehr/anaconda3/lib/python3.11/site-packages (from tensorflow-macos==2.13.0->tensorflow) (68.0.0)\n",
      "Requirement already satisfied: six>=1.12.0 in /Users/dadmehr/anaconda3/lib/python3.11/site-packages (from tensorflow-macos==2.13.0->tensorflow) (1.16.0)\n",
      "Requirement already satisfied: termcolor>=1.1.0 in /Users/dadmehr/anaconda3/lib/python3.11/site-packages (from tensorflow-macos==2.13.0->tensorflow) (2.3.0)\n",
      "Collecting typing-extensions<4.6.0,>=3.6.6 (from tensorflow-macos==2.13.0->tensorflow)\n",
      "  Using cached typing_extensions-4.5.0-py3-none-any.whl (27 kB)\n",
      "Requirement already satisfied: wrapt>=1.11.0 in /Users/dadmehr/anaconda3/lib/python3.11/site-packages (from tensorflow-macos==2.13.0->tensorflow) (1.14.1)\n",
      "Requirement already satisfied: grpcio<2.0,>=1.24.3 in /Users/dadmehr/anaconda3/lib/python3.11/site-packages (from tensorflow-macos==2.13.0->tensorflow) (1.58.0)\n",
      "Requirement already satisfied: tensorboard<2.14,>=2.13 in /Users/dadmehr/anaconda3/lib/python3.11/site-packages (from tensorflow-macos==2.13.0->tensorflow) (2.13.0)\n",
      "Requirement already satisfied: tensorflow-estimator<2.14,>=2.13.0 in /Users/dadmehr/anaconda3/lib/python3.11/site-packages (from tensorflow-macos==2.13.0->tensorflow) (2.13.0)\n",
      "Requirement already satisfied: keras<2.14,>=2.13.1 in /Users/dadmehr/anaconda3/lib/python3.11/site-packages (from tensorflow-macos==2.13.0->tensorflow) (2.13.1)\n",
      "Requirement already satisfied: wheel<1.0,>=0.23.0 in /Users/dadmehr/anaconda3/lib/python3.11/site-packages (from astunparse>=1.6.0->tensorflow-macos==2.13.0->tensorflow) (0.38.4)\n",
      "Requirement already satisfied: google-auth<3,>=1.6.3 in /Users/dadmehr/anaconda3/lib/python3.11/site-packages (from tensorboard<2.14,>=2.13->tensorflow-macos==2.13.0->tensorflow) (2.23.0)\n",
      "Requirement already satisfied: google-auth-oauthlib<1.1,>=0.5 in /Users/dadmehr/anaconda3/lib/python3.11/site-packages (from tensorboard<2.14,>=2.13->tensorflow-macos==2.13.0->tensorflow) (1.0.0)\n",
      "Requirement already satisfied: markdown>=2.6.8 in /Users/dadmehr/anaconda3/lib/python3.11/site-packages (from tensorboard<2.14,>=2.13->tensorflow-macos==2.13.0->tensorflow) (3.4.1)\n",
      "Requirement already satisfied: requests<3,>=2.21.0 in /Users/dadmehr/anaconda3/lib/python3.11/site-packages (from tensorboard<2.14,>=2.13->tensorflow-macos==2.13.0->tensorflow) (2.31.0)\n",
      "Requirement already satisfied: tensorboard-data-server<0.8.0,>=0.7.0 in /Users/dadmehr/anaconda3/lib/python3.11/site-packages (from tensorboard<2.14,>=2.13->tensorflow-macos==2.13.0->tensorflow) (0.7.1)\n",
      "Requirement already satisfied: werkzeug>=1.0.1 in /Users/dadmehr/anaconda3/lib/python3.11/site-packages (from tensorboard<2.14,>=2.13->tensorflow-macos==2.13.0->tensorflow) (2.2.3)\n"
     ]
    },
    {
     "name": "stdout",
     "output_type": "stream",
     "text": [
      "Requirement already satisfied: cachetools<6.0,>=2.0.0 in /Users/dadmehr/anaconda3/lib/python3.11/site-packages (from google-auth<3,>=1.6.3->tensorboard<2.14,>=2.13->tensorflow-macos==2.13.0->tensorflow) (5.3.1)\n",
      "Requirement already satisfied: pyasn1-modules>=0.2.1 in /Users/dadmehr/anaconda3/lib/python3.11/site-packages (from google-auth<3,>=1.6.3->tensorboard<2.14,>=2.13->tensorflow-macos==2.13.0->tensorflow) (0.2.8)\n",
      "Requirement already satisfied: rsa<5,>=3.1.4 in /Users/dadmehr/anaconda3/lib/python3.11/site-packages (from google-auth<3,>=1.6.3->tensorboard<2.14,>=2.13->tensorflow-macos==2.13.0->tensorflow) (4.9)\n",
      "Requirement already satisfied: urllib3<2.0 in /Users/dadmehr/anaconda3/lib/python3.11/site-packages (from google-auth<3,>=1.6.3->tensorboard<2.14,>=2.13->tensorflow-macos==2.13.0->tensorflow) (1.26.16)\n",
      "Requirement already satisfied: requests-oauthlib>=0.7.0 in /Users/dadmehr/anaconda3/lib/python3.11/site-packages (from google-auth-oauthlib<1.1,>=0.5->tensorboard<2.14,>=2.13->tensorflow-macos==2.13.0->tensorflow) (1.3.1)\n",
      "Requirement already satisfied: charset-normalizer<4,>=2 in /Users/dadmehr/anaconda3/lib/python3.11/site-packages (from requests<3,>=2.21.0->tensorboard<2.14,>=2.13->tensorflow-macos==2.13.0->tensorflow) (2.0.4)\n",
      "Requirement already satisfied: idna<4,>=2.5 in /Users/dadmehr/anaconda3/lib/python3.11/site-packages (from requests<3,>=2.21.0->tensorboard<2.14,>=2.13->tensorflow-macos==2.13.0->tensorflow) (3.4)\n",
      "Requirement already satisfied: certifi>=2017.4.17 in /Users/dadmehr/anaconda3/lib/python3.11/site-packages (from requests<3,>=2.21.0->tensorboard<2.14,>=2.13->tensorflow-macos==2.13.0->tensorflow) (2023.7.22)\n",
      "Requirement already satisfied: MarkupSafe>=2.1.1 in /Users/dadmehr/anaconda3/lib/python3.11/site-packages (from werkzeug>=1.0.1->tensorboard<2.14,>=2.13->tensorflow-macos==2.13.0->tensorflow) (2.1.1)\n",
      "Requirement already satisfied: pyasn1<0.5.0,>=0.4.6 in /Users/dadmehr/anaconda3/lib/python3.11/site-packages (from pyasn1-modules>=0.2.1->google-auth<3,>=1.6.3->tensorboard<2.14,>=2.13->tensorflow-macos==2.13.0->tensorflow) (0.4.8)\n",
      "Requirement already satisfied: oauthlib>=3.0.0 in /Users/dadmehr/anaconda3/lib/python3.11/site-packages (from requests-oauthlib>=0.7.0->google-auth-oauthlib<1.1,>=0.5->tensorboard<2.14,>=2.13->tensorflow-macos==2.13.0->tensorflow) (3.2.2)\n",
      "Installing collected packages: typing-extensions\n",
      "  Attempting uninstall: typing-extensions\n",
      "    Found existing installation: typing_extensions 4.8.0\n",
      "    Uninstalling typing_extensions-4.8.0:\n",
      "      Successfully uninstalled typing_extensions-4.8.0\n",
      "\u001b[31mERROR: pip's dependency resolver does not currently take into account all the packages that are installed. This behaviour is the source of the following dependency conflicts.\n",
      "pydantic-core 2.10.1 requires typing-extensions!=4.7.0,>=4.6.0, but you have typing-extensions 4.5.0 which is incompatible.\n",
      "pydantic 2.4.2 requires typing-extensions>=4.6.1, but you have typing-extensions 4.5.0 which is incompatible.\u001b[0m\u001b[31m\n",
      "\u001b[0mSuccessfully installed typing-extensions-4.5.0\n",
      "Requirement already satisfied: keras in /Users/dadmehr/anaconda3/lib/python3.11/site-packages (2.13.1)\n",
      "Requirement already satisfied: nltk in /Users/dadmehr/anaconda3/lib/python3.11/site-packages (3.8.1)\n",
      "Requirement already satisfied: click in /Users/dadmehr/anaconda3/lib/python3.11/site-packages (from nltk) (8.0.4)\n",
      "Requirement already satisfied: joblib in /Users/dadmehr/anaconda3/lib/python3.11/site-packages (from nltk) (1.2.0)\n",
      "Requirement already satisfied: regex>=2021.8.3 in /Users/dadmehr/anaconda3/lib/python3.11/site-packages (from nltk) (2022.7.9)\n",
      "Requirement already satisfied: tqdm in /Users/dadmehr/anaconda3/lib/python3.11/site-packages (from nltk) (4.65.0)\n",
      "Requirement already satisfied: spacy in /Users/dadmehr/anaconda3/lib/python3.11/site-packages (3.7.2)\n",
      "Requirement already satisfied: spacy-legacy<3.1.0,>=3.0.11 in /Users/dadmehr/anaconda3/lib/python3.11/site-packages (from spacy) (3.0.12)\n",
      "Requirement already satisfied: spacy-loggers<2.0.0,>=1.0.0 in /Users/dadmehr/anaconda3/lib/python3.11/site-packages (from spacy) (1.0.5)\n",
      "Requirement already satisfied: murmurhash<1.1.0,>=0.28.0 in /Users/dadmehr/anaconda3/lib/python3.11/site-packages (from spacy) (1.0.10)\n",
      "Requirement already satisfied: cymem<2.1.0,>=2.0.2 in /Users/dadmehr/anaconda3/lib/python3.11/site-packages (from spacy) (2.0.8)\n",
      "Requirement already satisfied: preshed<3.1.0,>=3.0.2 in /Users/dadmehr/anaconda3/lib/python3.11/site-packages (from spacy) (3.0.9)\n",
      "Requirement already satisfied: thinc<8.3.0,>=8.1.8 in /Users/dadmehr/anaconda3/lib/python3.11/site-packages (from spacy) (8.2.1)\n",
      "Requirement already satisfied: wasabi<1.2.0,>=0.9.1 in /Users/dadmehr/anaconda3/lib/python3.11/site-packages (from spacy) (1.1.2)\n",
      "Requirement already satisfied: srsly<3.0.0,>=2.4.3 in /Users/dadmehr/anaconda3/lib/python3.11/site-packages (from spacy) (2.4.8)\n",
      "Requirement already satisfied: catalogue<2.1.0,>=2.0.6 in /Users/dadmehr/anaconda3/lib/python3.11/site-packages (from spacy) (2.0.10)\n",
      "Requirement already satisfied: weasel<0.4.0,>=0.1.0 in /Users/dadmehr/anaconda3/lib/python3.11/site-packages (from spacy) (0.3.3)\n",
      "Requirement already satisfied: typer<0.10.0,>=0.3.0 in /Users/dadmehr/anaconda3/lib/python3.11/site-packages (from spacy) (0.9.0)\n",
      "Requirement already satisfied: smart-open<7.0.0,>=5.2.1 in /Users/dadmehr/anaconda3/lib/python3.11/site-packages (from spacy) (5.2.1)\n",
      "Requirement already satisfied: tqdm<5.0.0,>=4.38.0 in /Users/dadmehr/anaconda3/lib/python3.11/site-packages (from spacy) (4.65.0)\n",
      "Requirement already satisfied: requests<3.0.0,>=2.13.0 in /Users/dadmehr/anaconda3/lib/python3.11/site-packages (from spacy) (2.31.0)\n",
      "Requirement already satisfied: pydantic!=1.8,!=1.8.1,<3.0.0,>=1.7.4 in /Users/dadmehr/anaconda3/lib/python3.11/site-packages (from spacy) (2.4.2)\n",
      "Requirement already satisfied: jinja2 in /Users/dadmehr/anaconda3/lib/python3.11/site-packages (from spacy) (3.1.2)\n",
      "Requirement already satisfied: setuptools in /Users/dadmehr/anaconda3/lib/python3.11/site-packages (from spacy) (68.0.0)\n",
      "Requirement already satisfied: packaging>=20.0 in /Users/dadmehr/anaconda3/lib/python3.11/site-packages (from spacy) (23.0)\n",
      "Requirement already satisfied: langcodes<4.0.0,>=3.2.0 in /Users/dadmehr/anaconda3/lib/python3.11/site-packages (from spacy) (3.3.0)\n",
      "Requirement already satisfied: numpy>=1.19.0 in /Users/dadmehr/anaconda3/lib/python3.11/site-packages (from spacy) (1.24.3)\n",
      "Requirement already satisfied: annotated-types>=0.4.0 in /Users/dadmehr/anaconda3/lib/python3.11/site-packages (from pydantic!=1.8,!=1.8.1,<3.0.0,>=1.7.4->spacy) (0.6.0)\n",
      "Requirement already satisfied: pydantic-core==2.10.1 in /Users/dadmehr/anaconda3/lib/python3.11/site-packages (from pydantic!=1.8,!=1.8.1,<3.0.0,>=1.7.4->spacy) (2.10.1)\n",
      "Collecting typing-extensions>=4.6.1 (from pydantic!=1.8,!=1.8.1,<3.0.0,>=1.7.4->spacy)\n",
      "  Obtaining dependency information for typing-extensions>=4.6.1 from https://files.pythonhosted.org/packages/24/21/7d397a4b7934ff4028987914ac1044d3b7d52712f30e2ac7a2ae5bc86dd0/typing_extensions-4.8.0-py3-none-any.whl.metadata\n",
      "  Using cached typing_extensions-4.8.0-py3-none-any.whl.metadata (3.0 kB)\n",
      "Requirement already satisfied: charset-normalizer<4,>=2 in /Users/dadmehr/anaconda3/lib/python3.11/site-packages (from requests<3.0.0,>=2.13.0->spacy) (2.0.4)\n",
      "Requirement already satisfied: idna<4,>=2.5 in /Users/dadmehr/anaconda3/lib/python3.11/site-packages (from requests<3.0.0,>=2.13.0->spacy) (3.4)\n",
      "Requirement already satisfied: urllib3<3,>=1.21.1 in /Users/dadmehr/anaconda3/lib/python3.11/site-packages (from requests<3.0.0,>=2.13.0->spacy) (1.26.16)\n",
      "Requirement already satisfied: certifi>=2017.4.17 in /Users/dadmehr/anaconda3/lib/python3.11/site-packages (from requests<3.0.0,>=2.13.0->spacy) (2023.7.22)\n",
      "Requirement already satisfied: blis<0.8.0,>=0.7.8 in /Users/dadmehr/anaconda3/lib/python3.11/site-packages (from thinc<8.3.0,>=8.1.8->spacy) (0.7.11)\n",
      "Requirement already satisfied: confection<1.0.0,>=0.0.1 in /Users/dadmehr/anaconda3/lib/python3.11/site-packages (from thinc<8.3.0,>=8.1.8->spacy) (0.1.3)\n",
      "Requirement already satisfied: click<9.0.0,>=7.1.1 in /Users/dadmehr/anaconda3/lib/python3.11/site-packages (from typer<0.10.0,>=0.3.0->spacy) (8.0.4)\n",
      "Requirement already satisfied: cloudpathlib<0.17.0,>=0.7.0 in /Users/dadmehr/anaconda3/lib/python3.11/site-packages (from weasel<0.4.0,>=0.1.0->spacy) (0.16.0)\n",
      "Requirement already satisfied: MarkupSafe>=2.0 in /Users/dadmehr/anaconda3/lib/python3.11/site-packages (from jinja2->spacy) (2.1.1)\n"
     ]
    },
    {
     "name": "stdout",
     "output_type": "stream",
     "text": [
      "Using cached typing_extensions-4.8.0-py3-none-any.whl (31 kB)\n",
      "Installing collected packages: typing-extensions\n",
      "  Attempting uninstall: typing-extensions\n",
      "    Found existing installation: typing_extensions 4.5.0\n",
      "    Uninstalling typing_extensions-4.5.0:\n",
      "      Successfully uninstalled typing_extensions-4.5.0\n",
      "\u001b[31mERROR: pip's dependency resolver does not currently take into account all the packages that are installed. This behaviour is the source of the following dependency conflicts.\n",
      "tensorflow-macos 2.13.0 requires typing-extensions<4.6.0,>=3.6.6, but you have typing-extensions 4.8.0 which is incompatible.\u001b[0m\u001b[31m\n",
      "\u001b[0mSuccessfully installed typing-extensions-4.8.0\n",
      "Requirement already satisfied: flask in /Users/dadmehr/anaconda3/lib/python3.11/site-packages (2.2.2)\n",
      "Requirement already satisfied: Werkzeug>=2.2.2 in /Users/dadmehr/anaconda3/lib/python3.11/site-packages (from flask) (2.2.3)\n",
      "Requirement already satisfied: Jinja2>=3.0 in /Users/dadmehr/anaconda3/lib/python3.11/site-packages (from flask) (3.1.2)\n",
      "Requirement already satisfied: itsdangerous>=2.0 in /Users/dadmehr/anaconda3/lib/python3.11/site-packages (from flask) (2.0.1)\n",
      "Requirement already satisfied: click>=8.0 in /Users/dadmehr/anaconda3/lib/python3.11/site-packages (from flask) (8.0.4)\n",
      "Requirement already satisfied: MarkupSafe>=2.0 in /Users/dadmehr/anaconda3/lib/python3.11/site-packages (from Jinja2>=3.0->flask) (2.1.1)\n",
      "Requirement already satisfied: django in /Users/dadmehr/anaconda3/lib/python3.11/site-packages (4.2.6)\n",
      "Requirement already satisfied: asgiref<4,>=3.6.0 in /Users/dadmehr/anaconda3/lib/python3.11/site-packages (from django) (3.7.2)\n",
      "Requirement already satisfied: sqlparse>=0.3.1 in /Users/dadmehr/anaconda3/lib/python3.11/site-packages (from django) (0.4.4)\n",
      "Requirement already satisfied: sqlalchemy in /Users/dadmehr/anaconda3/lib/python3.11/site-packages (1.4.39)\n",
      "Requirement already satisfied: psycopg2 in /Users/dadmehr/anaconda3/lib/python3.11/site-packages (2.9.9)\n",
      "Requirement already satisfied: pymongo in /Users/dadmehr/anaconda3/lib/python3.11/site-packages (4.5.0)\n",
      "Requirement already satisfied: dnspython<3.0.0,>=1.16.0 in /Users/dadmehr/anaconda3/lib/python3.11/site-packages (from pymongo) (2.4.2)\n",
      "Requirement already satisfied: pillow in /Users/dadmehr/anaconda3/lib/python3.11/site-packages (9.4.0)\n",
      "Requirement already satisfied: pytz in /Users/dadmehr/anaconda3/lib/python3.11/site-packages (2022.7)\n",
      "Requirement already satisfied: jupyter in /Users/dadmehr/anaconda3/lib/python3.11/site-packages (1.0.0)\n",
      "Requirement already satisfied: notebook in /Users/dadmehr/anaconda3/lib/python3.11/site-packages (from jupyter) (6.5.4)\n",
      "Requirement already satisfied: qtconsole in /Users/dadmehr/anaconda3/lib/python3.11/site-packages (from jupyter) (5.4.2)\n",
      "Requirement already satisfied: jupyter-console in /Users/dadmehr/anaconda3/lib/python3.11/site-packages (from jupyter) (6.6.3)\n",
      "Requirement already satisfied: nbconvert in /Users/dadmehr/anaconda3/lib/python3.11/site-packages (from jupyter) (6.5.4)\n",
      "Requirement already satisfied: ipykernel in /Users/dadmehr/anaconda3/lib/python3.11/site-packages (from jupyter) (6.19.2)\n",
      "Requirement already satisfied: ipywidgets in /Users/dadmehr/anaconda3/lib/python3.11/site-packages (from jupyter) (8.0.4)\n",
      "Requirement already satisfied: appnope in /Users/dadmehr/anaconda3/lib/python3.11/site-packages (from ipykernel->jupyter) (0.1.2)\n",
      "Requirement already satisfied: comm>=0.1.1 in /Users/dadmehr/anaconda3/lib/python3.11/site-packages (from ipykernel->jupyter) (0.1.2)\n",
      "Requirement already satisfied: debugpy>=1.0 in /Users/dadmehr/anaconda3/lib/python3.11/site-packages (from ipykernel->jupyter) (1.6.7)\n",
      "Requirement already satisfied: ipython>=7.23.1 in /Users/dadmehr/anaconda3/lib/python3.11/site-packages (from ipykernel->jupyter) (8.12.0)\n",
      "Requirement already satisfied: jupyter-client>=6.1.12 in /Users/dadmehr/anaconda3/lib/python3.11/site-packages (from ipykernel->jupyter) (7.4.9)\n",
      "Requirement already satisfied: matplotlib-inline>=0.1 in /Users/dadmehr/anaconda3/lib/python3.11/site-packages (from ipykernel->jupyter) (0.1.6)\n",
      "Requirement already satisfied: nest-asyncio in /Users/dadmehr/anaconda3/lib/python3.11/site-packages (from ipykernel->jupyter) (1.5.6)\n",
      "Requirement already satisfied: packaging in /Users/dadmehr/anaconda3/lib/python3.11/site-packages (from ipykernel->jupyter) (23.0)\n",
      "Requirement already satisfied: psutil in /Users/dadmehr/anaconda3/lib/python3.11/site-packages (from ipykernel->jupyter) (5.9.0)\n",
      "Requirement already satisfied: pyzmq>=17 in /Users/dadmehr/anaconda3/lib/python3.11/site-packages (from ipykernel->jupyter) (23.2.0)\n",
      "Requirement already satisfied: tornado>=6.1 in /Users/dadmehr/anaconda3/lib/python3.11/site-packages (from ipykernel->jupyter) (6.3.2)\n",
      "Requirement already satisfied: traitlets>=5.4.0 in /Users/dadmehr/anaconda3/lib/python3.11/site-packages (from ipykernel->jupyter) (5.7.1)\n",
      "Requirement already satisfied: widgetsnbextension~=4.0 in /Users/dadmehr/anaconda3/lib/python3.11/site-packages (from ipywidgets->jupyter) (4.0.5)\n",
      "Requirement already satisfied: jupyterlab-widgets~=3.0 in /Users/dadmehr/anaconda3/lib/python3.11/site-packages (from ipywidgets->jupyter) (3.0.5)\n",
      "Requirement already satisfied: jupyter-core!=5.0.*,>=4.12 in /Users/dadmehr/anaconda3/lib/python3.11/site-packages (from jupyter-console->jupyter) (5.3.0)\n",
      "Requirement already satisfied: prompt-toolkit>=3.0.30 in /Users/dadmehr/anaconda3/lib/python3.11/site-packages (from jupyter-console->jupyter) (3.0.36)\n",
      "Requirement already satisfied: pygments in /Users/dadmehr/anaconda3/lib/python3.11/site-packages (from jupyter-console->jupyter) (2.15.1)\n",
      "Requirement already satisfied: lxml in /Users/dadmehr/anaconda3/lib/python3.11/site-packages (from nbconvert->jupyter) (4.9.2)\n",
      "Requirement already satisfied: beautifulsoup4 in /Users/dadmehr/anaconda3/lib/python3.11/site-packages (from nbconvert->jupyter) (4.12.2)\n",
      "Requirement already satisfied: bleach in /Users/dadmehr/anaconda3/lib/python3.11/site-packages (from nbconvert->jupyter) (4.1.0)\n",
      "Requirement already satisfied: defusedxml in /Users/dadmehr/anaconda3/lib/python3.11/site-packages (from nbconvert->jupyter) (0.7.1)\n",
      "Requirement already satisfied: entrypoints>=0.2.2 in /Users/dadmehr/anaconda3/lib/python3.11/site-packages (from nbconvert->jupyter) (0.4)\n",
      "Requirement already satisfied: jinja2>=3.0 in /Users/dadmehr/anaconda3/lib/python3.11/site-packages (from nbconvert->jupyter) (3.1.2)\n",
      "Requirement already satisfied: jupyterlab-pygments in /Users/dadmehr/anaconda3/lib/python3.11/site-packages (from nbconvert->jupyter) (0.1.2)\n",
      "Requirement already satisfied: MarkupSafe>=2.0 in /Users/dadmehr/anaconda3/lib/python3.11/site-packages (from nbconvert->jupyter) (2.1.1)\n",
      "Requirement already satisfied: mistune<2,>=0.8.1 in /Users/dadmehr/anaconda3/lib/python3.11/site-packages (from nbconvert->jupyter) (0.8.4)\n",
      "Requirement already satisfied: nbclient>=0.5.0 in /Users/dadmehr/anaconda3/lib/python3.11/site-packages (from nbconvert->jupyter) (0.5.13)\n",
      "Requirement already satisfied: nbformat>=5.1 in /Users/dadmehr/anaconda3/lib/python3.11/site-packages (from nbconvert->jupyter) (5.7.0)\n",
      "Requirement already satisfied: pandocfilters>=1.4.1 in /Users/dadmehr/anaconda3/lib/python3.11/site-packages (from nbconvert->jupyter) (1.5.0)\n",
      "Requirement already satisfied: tinycss2 in /Users/dadmehr/anaconda3/lib/python3.11/site-packages (from nbconvert->jupyter) (1.2.1)\n",
      "Requirement already satisfied: argon2-cffi in /Users/dadmehr/anaconda3/lib/python3.11/site-packages (from notebook->jupyter) (21.3.0)\n",
      "Requirement already satisfied: ipython-genutils in /Users/dadmehr/anaconda3/lib/python3.11/site-packages (from notebook->jupyter) (0.2.0)\n",
      "Requirement already satisfied: Send2Trash>=1.8.0 in /Users/dadmehr/anaconda3/lib/python3.11/site-packages (from notebook->jupyter) (1.8.0)\n",
      "Requirement already satisfied: terminado>=0.8.3 in /Users/dadmehr/anaconda3/lib/python3.11/site-packages (from notebook->jupyter) (0.17.1)\n",
      "Requirement already satisfied: prometheus-client in /Users/dadmehr/anaconda3/lib/python3.11/site-packages (from notebook->jupyter) (0.14.1)\n",
      "Requirement already satisfied: nbclassic>=0.4.7 in /Users/dadmehr/anaconda3/lib/python3.11/site-packages (from notebook->jupyter) (0.5.5)\n",
      "Requirement already satisfied: qtpy>=2.0.1 in /Users/dadmehr/anaconda3/lib/python3.11/site-packages (from qtconsole->jupyter) (2.2.0)\n",
      "Requirement already satisfied: backcall in /Users/dadmehr/anaconda3/lib/python3.11/site-packages (from ipython>=7.23.1->ipykernel->jupyter) (0.2.0)\n",
      "Requirement already satisfied: decorator in /Users/dadmehr/anaconda3/lib/python3.11/site-packages (from ipython>=7.23.1->ipykernel->jupyter) (5.1.1)\n",
      "Requirement already satisfied: jedi>=0.16 in /Users/dadmehr/anaconda3/lib/python3.11/site-packages (from ipython>=7.23.1->ipykernel->jupyter) (0.18.1)\n",
      "Requirement already satisfied: pickleshare in /Users/dadmehr/anaconda3/lib/python3.11/site-packages (from ipython>=7.23.1->ipykernel->jupyter) (0.7.5)\n",
      "Requirement already satisfied: stack-data in /Users/dadmehr/anaconda3/lib/python3.11/site-packages (from ipython>=7.23.1->ipykernel->jupyter) (0.2.0)\n",
      "Requirement already satisfied: pexpect>4.3 in /Users/dadmehr/anaconda3/lib/python3.11/site-packages (from ipython>=7.23.1->ipykernel->jupyter) (4.8.0)\n",
      "Requirement already satisfied: python-dateutil>=2.8.2 in /Users/dadmehr/anaconda3/lib/python3.11/site-packages (from jupyter-client>=6.1.12->ipykernel->jupyter) (2.8.2)\n",
      "Requirement already satisfied: platformdirs>=2.5 in /Users/dadmehr/anaconda3/lib/python3.11/site-packages (from jupyter-core!=5.0.*,>=4.12->jupyter-console->jupyter) (2.5.2)\n"
     ]
    },
    {
     "name": "stdout",
     "output_type": "stream",
     "text": [
      "Requirement already satisfied: jupyter-server>=1.8 in /Users/dadmehr/anaconda3/lib/python3.11/site-packages (from nbclassic>=0.4.7->notebook->jupyter) (1.23.4)\n",
      "Requirement already satisfied: notebook-shim>=0.1.0 in /Users/dadmehr/anaconda3/lib/python3.11/site-packages (from nbclassic>=0.4.7->notebook->jupyter) (0.2.2)\n",
      "Requirement already satisfied: fastjsonschema in /Users/dadmehr/anaconda3/lib/python3.11/site-packages (from nbformat>=5.1->nbconvert->jupyter) (2.16.2)\n",
      "Requirement already satisfied: jsonschema>=2.6 in /Users/dadmehr/anaconda3/lib/python3.11/site-packages (from nbformat>=5.1->nbconvert->jupyter) (4.17.3)\n",
      "Requirement already satisfied: wcwidth in /Users/dadmehr/anaconda3/lib/python3.11/site-packages (from prompt-toolkit>=3.0.30->jupyter-console->jupyter) (0.2.5)\n",
      "Requirement already satisfied: ptyprocess in /Users/dadmehr/anaconda3/lib/python3.11/site-packages (from terminado>=0.8.3->notebook->jupyter) (0.7.0)\n",
      "Requirement already satisfied: argon2-cffi-bindings in /Users/dadmehr/anaconda3/lib/python3.11/site-packages (from argon2-cffi->notebook->jupyter) (21.2.0)\n",
      "Requirement already satisfied: soupsieve>1.2 in /Users/dadmehr/anaconda3/lib/python3.11/site-packages (from beautifulsoup4->nbconvert->jupyter) (2.4)\n",
      "Requirement already satisfied: six>=1.9.0 in /Users/dadmehr/anaconda3/lib/python3.11/site-packages (from bleach->nbconvert->jupyter) (1.16.0)\n",
      "Requirement already satisfied: webencodings in /Users/dadmehr/anaconda3/lib/python3.11/site-packages (from bleach->nbconvert->jupyter) (0.5.1)\n",
      "Requirement already satisfied: parso<0.9.0,>=0.8.0 in /Users/dadmehr/anaconda3/lib/python3.11/site-packages (from jedi>=0.16->ipython>=7.23.1->ipykernel->jupyter) (0.8.3)\n",
      "Requirement already satisfied: attrs>=17.4.0 in /Users/dadmehr/anaconda3/lib/python3.11/site-packages (from jsonschema>=2.6->nbformat>=5.1->nbconvert->jupyter) (22.1.0)\n",
      "Requirement already satisfied: pyrsistent!=0.17.0,!=0.17.1,!=0.17.2,>=0.14.0 in /Users/dadmehr/anaconda3/lib/python3.11/site-packages (from jsonschema>=2.6->nbformat>=5.1->nbconvert->jupyter) (0.18.0)\n",
      "Requirement already satisfied: anyio<4,>=3.1.0 in /Users/dadmehr/anaconda3/lib/python3.11/site-packages (from jupyter-server>=1.8->nbclassic>=0.4.7->notebook->jupyter) (3.5.0)\n",
      "Requirement already satisfied: websocket-client in /Users/dadmehr/anaconda3/lib/python3.11/site-packages (from jupyter-server>=1.8->nbclassic>=0.4.7->notebook->jupyter) (0.58.0)\n",
      "Requirement already satisfied: cffi>=1.0.1 in /Users/dadmehr/anaconda3/lib/python3.11/site-packages (from argon2-cffi-bindings->argon2-cffi->notebook->jupyter) (1.15.1)\n",
      "Requirement already satisfied: executing in /Users/dadmehr/anaconda3/lib/python3.11/site-packages (from stack-data->ipython>=7.23.1->ipykernel->jupyter) (0.8.3)\n",
      "Requirement already satisfied: asttokens in /Users/dadmehr/anaconda3/lib/python3.11/site-packages (from stack-data->ipython>=7.23.1->ipykernel->jupyter) (2.0.5)\n",
      "Requirement already satisfied: pure-eval in /Users/dadmehr/anaconda3/lib/python3.11/site-packages (from stack-data->ipython>=7.23.1->ipykernel->jupyter) (0.2.2)\n",
      "Requirement already satisfied: idna>=2.8 in /Users/dadmehr/anaconda3/lib/python3.11/site-packages (from anyio<4,>=3.1.0->jupyter-server>=1.8->nbclassic>=0.4.7->notebook->jupyter) (3.4)\n",
      "Requirement already satisfied: sniffio>=1.1 in /Users/dadmehr/anaconda3/lib/python3.11/site-packages (from anyio<4,>=3.1.0->jupyter-server>=1.8->nbclassic>=0.4.7->notebook->jupyter) (1.2.0)\n",
      "Requirement already satisfied: pycparser in /Users/dadmehr/anaconda3/lib/python3.11/site-packages (from cffi>=1.0.1->argon2-cffi-bindings->argon2-cffi->notebook->jupyter) (2.21)\n"
     ]
    }
   ],
   "source": [
    "# General Purpose and Utilities\n",
    "!pip install requests  # For making HTTP requests\n",
    "!pip install tqdm  # For progress bars\n",
    "\n",
    "# Data Analysis and Manipulation\n",
    "!pip install numpy  # For numerical operations\n",
    "!pip install pandas  # For data analysis and manipulation\n",
    "!pip install openpyxl  # For reading/writing Excel files\n",
    "\n",
    "# Data Visualization\n",
    "!pip install matplotlib  # For plotting and visualization\n",
    "!pip install seaborn  # For statistical data visualization\n",
    "\n",
    "# Web Scraping\n",
    "!pip install beautifulsoup4  # For parsing HTML and XML documents\n",
    "!pip install scrapy  # An open source and collaborative web crawling framework\n",
    "\n",
    "# Machine Learning and Data Science\n",
    "!pip install scikit-learn  # Machine learning library\n",
    "!pip install statsmodels  # For estimating and testing statistical models\n",
    "\n",
    "# Deep Learning\n",
    "!pip install tensorflow  # Open source library for numerical computation and machine learning\n",
    "!pip install keras  # High-level neural networks API, written in Python and capable of running on top of TensorFlow\n",
    "\n",
    "# Natural Language Processing\n",
    "!pip install nltk  # Natural language toolkit\n",
    "!pip install spacy  # For advanced natural language processing\n",
    "\n",
    "# Web Development\n",
    "!pip install flask  # A micro web framework written in Python\n",
    "!pip install django  # A high-level Python web framework\n",
    "\n",
    "# Databases\n",
    "!pip install sqlalchemy  # For SQL toolkit and Object-Relational Mapping (ORM) library for Python\n",
    "!pip install psycopg2  # PostgreSQL adapter for Python\n",
    "!pip install pymongo  # Python driver for MongoDB\n",
    "\n",
    "# Others\n",
    "!pip install pillow  # Python Imaging Library (For handling images)\n",
    "!pip install pytz  # For timezone definitions\n",
    "!pip install jupyter  # For Jupyter notebook and related tools\n"
   ]
  },
  {
   "cell_type": "markdown",
   "metadata": {},
   "source": [
    "## Modules and Libraries"
   ]
  },
  {
   "cell_type": "code",
   "execution_count": 45,
   "metadata": {},
   "outputs": [
    {
     "name": "stdout",
     "output_type": "stream",
     "text": [
      "5.0\n"
     ]
    }
   ],
   "source": [
    "import math\n",
    "print(math.sqrt(25))"
   ]
  },
  {
   "cell_type": "markdown",
   "metadata": {},
   "source": [
    "# 4x4 Random Matrix Generation and Inversion with Fixed Seed"
   ]
  },
  {
   "cell_type": "code",
   "execution_count": 46,
   "metadata": {},
   "outputs": [
    {
     "name": "stdout",
     "output_type": "stream",
     "text": [
      "Random 4x4 Matrix:\n",
      "[[0.4359949  0.02592623 0.54966248 0.43532239]\n",
      " [0.4203678  0.33033482 0.20464863 0.61927097]\n",
      " [0.29965467 0.26682728 0.62113383 0.52914209]\n",
      " [0.13457995 0.51357812 0.18443987 0.78533515]]\n",
      "\n",
      "\n",
      "Inverse of the Matrix:\n",
      "[[-1.51861929  4.36521425  0.84732689 -3.17128018]\n",
      " [-6.73880576  4.03409391  5.58756834 -3.21042781]\n",
      " [-0.43559022 -1.19286274  2.54703027 -0.53405669]\n",
      " [ 4.76945304 -3.10603852 -4.39743463  4.04171079]]\n"
     ]
    }
   ],
   "source": [
    "import numpy as np\n",
    "\n",
    "\n",
    "# Set a seed for reproducibility\n",
    "np.random.seed(2)\n",
    "\n",
    "# Create a 4x4 random matrix\n",
    "matrix = np.random.rand(4, 4)\n",
    "\n",
    "# Print the random matrix\n",
    "print(\"Random 4x4 Matrix:\")\n",
    "print(matrix)\n",
    "print(\"\\n\")\n",
    "\n",
    "# Find its inverse\n",
    "try:\n",
    "    inverse_matrix = np.linalg.inv(matrix)\n",
    "    print(\"Inverse of the Matrix:\")\n",
    "    print(inverse_matrix)\n",
    "except np.linalg.LinAlgError:\n",
    "    print(\"The matrix is singular and does not have an inverse.\")"
   ]
  },
  {
   "cell_type": "code",
   "execution_count": 47,
   "metadata": {},
   "outputs": [
    {
     "data": {
      "image/png": "[encoded data removed]",
      "text/plain": [
       "<Figure size 640x480 with 1 Axes>"
      ]
     },
     "metadata": {},
     "output_type": "display_data"
    }
   ],
   "source": [
    "import numpy as np\n",
    "import matplotlib.pyplot as plt\n",
    "\n",
    "# Generate x values\n",
    "x = np.linspace(-10, 10, 50)\n",
    "\n",
    "# Calculate y values\n",
    "y = x**2\n",
    "\n",
    "# Plotting\n",
    "plt.plot(x, y, label='y = x^2')\n",
    "plt.title('Plot of y = x^2')\n",
    "plt.xlabel('x')\n",
    "plt.ylabel('y')\n",
    "plt.grid(True)\n",
    "plt.legend()\n",
    "plt.show()\n"
   ]
  },
  {
   "cell_type": "code",
   "execution_count": 48,
   "metadata": {},
   "outputs": [
    {
     "data": {
      "image/png": "[encoded data removed]",
      "text/plain": [
       "<Figure size 800x600 with 1 Axes>"
      ]
     },
     "metadata": {},
     "output_type": "display_data"
    }
   ],
   "source": [
    "import numpy as np\n",
    "import matplotlib.pyplot as plt\n",
    "\n",
    "# Create a figure and 3D axis\n",
    "fig = plt.figure(figsize=(8, 6))\n",
    "ax = fig.add_subplot(111, projection='3d')\n",
    "\n",
    "# Generate t values\n",
    "t = np.linspace(0, 6 * np.pi, 300)\n",
    "\n",
    "# Calculate the x, y and z values for the electromagnetic wave\n",
    "x = t\n",
    "y = np.sin(t)\n",
    "z = np.cos(t)\n",
    "\n",
    "# Plot the wave\n",
    "ax.plot(x, y, z, lw=2, color='blue', label=\"Electromagnetic Wave\")\n",
    "\n",
    "# Setting labels and title\n",
    "ax.set_title(\"3D Spiral Electromagnetic Wave\", fontsize=16)\n",
    "ax.set_xlabel(\"Propagation Direction (x)\", fontsize=8)\n",
    "ax.set_ylabel(\"Electric Field (y)\", fontsize=8)\n",
    "ax.set_zlabel(\"Magnetic Field (z)\", fontsize=8)\n",
    "ax.legend()\n",
    "\n",
    "plt.show()\n"
   ]
  },
  {
   "cell_type": "markdown",
   "metadata": {},
   "source": [
    "# Visualizing Local Minima and Maxima of a Polynomial Function with Tangent Lines"
   ]
  },
  {
   "cell_type": "markdown",
   "metadata": {},
   "source": [
    "The code defines a polynomial function, computes its local minima and maxima by setting the derivative to zero, and then visualizes the function alongside its tangent lines at the minima and maxima. The title aptly summarizes the key operations and the visualization outcome of the code."
   ]
  },
  {
   "cell_type": "code",
   "execution_count": 49,
   "metadata": {},
   "outputs": [
    {
     "data": {
      "image/png": "[encoded data removed]",
      "text/plain": [
       "<Figure size 640x480 with 1 Axes>"
      ]
     },
     "metadata": {},
     "output_type": "display_data"
    }
   ],
   "source": [
    "import numpy as np\n",
    "import matplotlib.pyplot as plt\n",
    "\n",
    "# Define the polynomial function and its derivative\n",
    "def f(x):\n",
    "    return x**5 - 2*x**4 + x**2\n",
    "\n",
    "def df(x):\n",
    "    return 5*x**4 - 8*x**3 + 2*x\n",
    "\n",
    "# Find potential minima/maxima by solving for where the derivative equals zero\n",
    "roots = np.roots([5, -8, 0, 2, 0])\n",
    "\n",
    "# Filter only real roots\n",
    "real_roots = roots[np.isreal(roots)].real\n",
    "\n",
    "# Determine function values at the roots\n",
    "values = f(real_roots)\n",
    "\n",
    "# Generate x values for plotting\n",
    "x = np.linspace(-1, 1.9, 400)\n",
    "y = f(x)\n",
    "\n",
    "# Create the plot\n",
    "fig, ax = plt.subplots()\n",
    "\n",
    "# Plot the function\n",
    "ax.plot(x, y, label='f(x) = $x^5 - 2x^4 + x^2$')\n",
    "\n",
    "# Plot the minima/maxima\n",
    "ax.scatter(real_roots, values, color='red')\n",
    "\n",
    "# For each min/max, plot a tangent line\n",
    "for root, value in zip(real_roots, values):\n",
    "    ax.plot([root - 0.2, root + 0.2], [value, value], color='green')\n",
    "\n",
    "ax.set_title('Polynomial with Local Minima and Maxima')\n",
    "ax.set_xlabel('x')\n",
    "ax.set_ylabel('f(x)')\n",
    "ax.set_ylim(-2, 2)  # Set y-axis limits\n",
    "ax.legend()\n",
    "ax.grid(True)\n",
    "plt.show()\n"
   ]
  },
  {
   "cell_type": "markdown",
   "metadata": {},
   "source": [
    "# Demonstrating Different Merge Types in Pandas with Random Data"
   ]
  },
  {
   "cell_type": "markdown",
   "metadata": {},
   "source": [
    "The code provides a clear demonstration of how to use the merge function in pandas to achieve different types of joins (left, right, outer, inner) using random data. The title reflects this purpose."
   ]
  },
  {
   "cell_type": "markdown",
   "metadata": {},
   "source": [
    "<img src=\"all-joins.png\" alt=\"all-joins\" width=\"500\" style=\"float:left;\"/>"
   ]
  },
  {
   "cell_type": "markdown",
   "metadata": {},
   "source": [
    "from https://community.qlik.com/t5/QlikView-App-Dev/Joining-Data-lineage-QVX-files/td-p/864278"
   ]
  },
  {
   "cell_type": "code",
   "execution_count": 50,
   "metadata": {},
   "outputs": [
    {
     "name": "stdout",
     "output_type": "stream",
     "text": [
      "Left Merge:\n",
      "   ID     Name   Income\n",
      "0  18  Charlie  75444.0\n",
      "1   1    Oscar      NaN\n",
      "2  19     Mona      NaN\n",
      "3   8     Jack      NaN\n",
      "4  10    Alice  91713.0\n",
      "5  17    David      NaN\n",
      "6   6      Eve  47591.0\n",
      "7  13     Kara      NaN\n",
      "8   4     Liam  88146.0\n",
      "9   2    Frank  50006.0\n",
      "\n",
      "Right Merge:\n",
      "   ID     Name  Income\n",
      "0  11      NaN   73890\n",
      "1   6      Eve   47591\n",
      "2   4     Liam   88146\n",
      "3   5      NaN   89300\n",
      "4   2    Frank   50006\n",
      "5   9      NaN   33560\n",
      "6  10    Alice   91713\n",
      "7  18  Charlie   75444\n",
      "\n",
      "Outer Merge:\n",
      "    ID     Name   Income\n",
      "0   18  Charlie  75444.0\n",
      "1    1    Oscar      NaN\n",
      "2   19     Mona      NaN\n",
      "3    8     Jack      NaN\n",
      "4   10    Alice  91713.0\n",
      "5   17    David      NaN\n",
      "6    6      Eve  47591.0\n",
      "7   13     Kara      NaN\n",
      "8    4     Liam  88146.0\n",
      "9    2    Frank  50006.0\n",
      "10  11      NaN  73890.0\n",
      "11   5      NaN  89300.0\n",
      "12   9      NaN  33560.0\n",
      "\n",
      "Inner Merge:\n",
      "   ID     Name  Income\n",
      "0  18  Charlie   75444\n",
      "1  10    Alice   91713\n",
      "2   6      Eve   47591\n",
      "3   4     Liam   88146\n",
      "4   2    Frank   50006\n"
     ]
    }
   ],
   "source": [
    "import pandas as pd\n",
    "import numpy as np\n",
    "\n",
    "# Random seed for reproducibility\n",
    "np.random.seed(0)\n",
    "\n",
    "# List of real names\n",
    "names_list = ['Alice', 'Bob', 'Charlie', 'David', 'Eve', 'Frank', 'Grace', 'Hannah', 'Isaac', 'Jack', 'Kara', 'Liam', 'Mona', 'Nina', 'Oscar']\n",
    "\n",
    "# Create a table with random IDs and random names from the names_list\n",
    "ids_names = pd.DataFrame({\n",
    "    'ID': np.random.choice(20, 10, replace=False),  # Random unique IDs between 0 and 20\n",
    "    'Name': np.random.choice(names_list, 10, replace=False)  # Random unique names from names_list\n",
    "})\n",
    "\n",
    "# Create another table with incomes for some of those IDs\n",
    "ids_incomes = pd.DataFrame({\n",
    "    'ID': np.random.choice(20, 8, replace=False),  # Random unique IDs between 0 and 20 but only 8 of them\n",
    "    'Income': np.random.randint(30000, 100000, 8)  # Random incomes between 30,000 and 100,000\n",
    "})\n",
    "\n",
    "# Left merge\n",
    "left_merged = pd.merge(ids_names, ids_incomes, on='ID', how='left')\n",
    "\n",
    "# Right merge\n",
    "right_merged = pd.merge(ids_names, ids_incomes, on='ID', how='right')\n",
    "\n",
    "# Outer merge\n",
    "outer_merged = pd.merge(ids_names, ids_incomes, on='ID', how='outer')\n",
    "\n",
    "# Inner merge\n",
    "inner_merged = pd.merge(ids_names, ids_incomes, on='ID', how='inner')\n",
    "\n",
    "print(\"Left Merge:\")\n",
    "print(left_merged)\n",
    "print(\"\\nRight Merge:\")\n",
    "print(right_merged)\n",
    "print(\"\\nOuter Merge:\")\n",
    "print(outer_merged)\n",
    "print(\"\\nInner Merge:\")\n",
    "print(inner_merged)\n"
   ]
  },
  {
   "cell_type": "markdown",
   "metadata": {},
   "source": [
    "# Survival Analysis with scikit-survival"
   ]
  },
  {
   "cell_type": "code",
   "execution_count": 51,
   "metadata": {},
   "outputs": [
    {
     "data": {
      "image/png": "[encoded data removed]",
      "text/plain": [
       "<Figure size 640x480 with 1 Axes>"
      ]
     },
     "metadata": {},
     "output_type": "display_data"
    },
    {
     "name": "stdout",
     "output_type": "stream",
     "text": [
      "   Age_in_years  Celltype=large  Celltype=smallcell  Celltype=squamous  \\\n",
      "0          69.0             0.0                 0.0                1.0   \n",
      "1          64.0             0.0                 0.0                1.0   \n",
      "2          38.0             0.0                 0.0                1.0   \n",
      "3          63.0             0.0                 0.0                1.0   \n",
      "4          65.0             0.0                 0.0                1.0   \n",
      "\n",
      "   Karnofsky_score  Months_from_Diagnosis  Prior_therapy=yes  Treatment=test  \n",
      "0             60.0                    7.0                0.0             0.0  \n",
      "1             70.0                    5.0                1.0             0.0  \n",
      "2             60.0                    3.0                0.0             0.0  \n",
      "3             60.0                    9.0                1.0             0.0  \n",
      "4             70.0                   11.0                1.0             0.0  \n"
     ]
    }
   ],
   "source": [
    "import matplotlib.pyplot as plt\n",
    "from sksurv.datasets import load_veterans_lung_cancer\n",
    "from sksurv.nonparametric import kaplan_meier_estimator\n",
    "from sksurv.preprocessing import OneHotEncoder\n",
    "\n",
    "# Load data\n",
    "data_x, data_y = load_veterans_lung_cancer()\n",
    "\n",
    "# Kaplan Meier estimator for overall survival\n",
    "time, survival_prob = kaplan_meier_estimator(data_y[\"Status\"], data_y[\"Survival_in_days\"])\n",
    "plt.step(time, survival_prob, where=\"post\", label=\"Overall Survival\")\n",
    "\n",
    "# Kaplan Meier estimator based on treatment type\n",
    "for treatment_type in (\"standard\", \"test\"):\n",
    "    mask_treat = data_x[\"Treatment\"] == treatment_type\n",
    "    time_treatment, survival_prob_treatment = kaplan_meier_estimator(data_y[\"Status\"][mask_treat], data_y[\"Survival_in_days\"][mask_treat])\n",
    "    plt.step(time_treatment, survival_prob_treatment, where=\"post\", label=f\"Treatment = {treatment_type}\")\n",
    "\n",
    "# Displaying the survival curves\n",
    "plt.ylim(0, 1)\n",
    "plt.ylabel(\"Est. Probability of Survival $\\hat{S}(t)$\")\n",
    "plt.xlabel(\"Time $t$\")\n",
    "plt.legend(loc=\"best\")\n",
    "plt.show()\n",
    "\n",
    "# Convert categorical data to numeric\n",
    "data_x_numeric = OneHotEncoder().fit_transform(data_x)\n",
    "print(data_x_numeric.head())\n"
   ]
  },
  {
   "cell_type": "code",
   "execution_count": 52,
   "metadata": {},
   "outputs": [
    {
     "data": {
      "text/html": [
       "<div>\n",
       "<style scoped>\n",
       "    .dataframe tbody tr th:only-of-type {\n",
       "        vertical-align: middle;\n",
       "    }\n",
       "\n",
       "    .dataframe tbody tr th {\n",
       "        vertical-align: top;\n",
       "    }\n",
       "\n",
       "    .dataframe thead th {\n",
       "        text-align: right;\n",
       "    }\n",
       "</style>\n",
       "<table border=\"1\" class=\"dataframe\">\n",
       "  <thead>\n",
       "    <tr style=\"text-align: right;\">\n",
       "      <th></th>\n",
       "      <th>age</th>\n",
       "      <th>workclass</th>\n",
       "      <th>fnlwgt</th>\n",
       "      <th>education</th>\n",
       "      <th>education-num</th>\n",
       "      <th>marital-status</th>\n",
       "      <th>occupation</th>\n",
       "      <th>relationship</th>\n",
       "      <th>race</th>\n",
       "      <th>sex</th>\n",
       "      <th>capital-gain</th>\n",
       "      <th>capital-loss</th>\n",
       "      <th>hours-per-week</th>\n",
       "      <th>native-country</th>\n",
       "      <th>income</th>\n",
       "    </tr>\n",
       "  </thead>\n",
       "  <tbody>\n",
       "    <tr>\n",
       "      <th>0</th>\n",
       "      <td>39</td>\n",
       "      <td>State-gov</td>\n",
       "      <td>77516</td>\n",
       "      <td>Bachelors</td>\n",
       "      <td>13</td>\n",
       "      <td>Never-married</td>\n",
       "      <td>Adm-clerical</td>\n",
       "      <td>Not-in-family</td>\n",
       "      <td>White</td>\n",
       "      <td>Male</td>\n",
       "      <td>2174</td>\n",
       "      <td>0</td>\n",
       "      <td>40</td>\n",
       "      <td>United-States</td>\n",
       "      <td>&lt;=50K</td>\n",
       "    </tr>\n",
       "    <tr>\n",
       "      <th>1</th>\n",
       "      <td>50</td>\n",
       "      <td>Self-emp-not-inc</td>\n",
       "      <td>83311</td>\n",
       "      <td>Bachelors</td>\n",
       "      <td>13</td>\n",
       "      <td>Married-civ-spouse</td>\n",
       "      <td>Exec-managerial</td>\n",
       "      <td>Husband</td>\n",
       "      <td>White</td>\n",
       "      <td>Male</td>\n",
       "      <td>0</td>\n",
       "      <td>0</td>\n",
       "      <td>13</td>\n",
       "      <td>United-States</td>\n",
       "      <td>&lt;=50K</td>\n",
       "    </tr>\n",
       "    <tr>\n",
       "      <th>2</th>\n",
       "      <td>38</td>\n",
       "      <td>Private</td>\n",
       "      <td>215646</td>\n",
       "      <td>HS-grad</td>\n",
       "      <td>9</td>\n",
       "      <td>Divorced</td>\n",
       "      <td>Handlers-cleaners</td>\n",
       "      <td>Not-in-family</td>\n",
       "      <td>White</td>\n",
       "      <td>Male</td>\n",
       "      <td>0</td>\n",
       "      <td>0</td>\n",
       "      <td>40</td>\n",
       "      <td>United-States</td>\n",
       "      <td>&lt;=50K</td>\n",
       "    </tr>\n",
       "    <tr>\n",
       "      <th>3</th>\n",
       "      <td>53</td>\n",
       "      <td>Private</td>\n",
       "      <td>234721</td>\n",
       "      <td>11th</td>\n",
       "      <td>7</td>\n",
       "      <td>Married-civ-spouse</td>\n",
       "      <td>Handlers-cleaners</td>\n",
       "      <td>Husband</td>\n",
       "      <td>Black</td>\n",
       "      <td>Male</td>\n",
       "      <td>0</td>\n",
       "      <td>0</td>\n",
       "      <td>40</td>\n",
       "      <td>United-States</td>\n",
       "      <td>&lt;=50K</td>\n",
       "    </tr>\n",
       "    <tr>\n",
       "      <th>4</th>\n",
       "      <td>28</td>\n",
       "      <td>Private</td>\n",
       "      <td>338409</td>\n",
       "      <td>Bachelors</td>\n",
       "      <td>13</td>\n",
       "      <td>Married-civ-spouse</td>\n",
       "      <td>Prof-specialty</td>\n",
       "      <td>Wife</td>\n",
       "      <td>Black</td>\n",
       "      <td>Female</td>\n",
       "      <td>0</td>\n",
       "      <td>0</td>\n",
       "      <td>40</td>\n",
       "      <td>Cuba</td>\n",
       "      <td>&lt;=50K</td>\n",
       "    </tr>\n",
       "    <tr>\n",
       "      <th>...</th>\n",
       "      <td>...</td>\n",
       "      <td>...</td>\n",
       "      <td>...</td>\n",
       "      <td>...</td>\n",
       "      <td>...</td>\n",
       "      <td>...</td>\n",
       "      <td>...</td>\n",
       "      <td>...</td>\n",
       "      <td>...</td>\n",
       "      <td>...</td>\n",
       "      <td>...</td>\n",
       "      <td>...</td>\n",
       "      <td>...</td>\n",
       "      <td>...</td>\n",
       "      <td>...</td>\n",
       "    </tr>\n",
       "    <tr>\n",
       "      <th>32556</th>\n",
       "      <td>27</td>\n",
       "      <td>Private</td>\n",
       "      <td>257302</td>\n",
       "      <td>Assoc-acdm</td>\n",
       "      <td>12</td>\n",
       "      <td>Married-civ-spouse</td>\n",
       "      <td>Tech-support</td>\n",
       "      <td>Wife</td>\n",
       "      <td>White</td>\n",
       "      <td>Female</td>\n",
       "      <td>0</td>\n",
       "      <td>0</td>\n",
       "      <td>38</td>\n",
       "      <td>United-States</td>\n",
       "      <td>&lt;=50K</td>\n",
       "    </tr>\n",
       "    <tr>\n",
       "      <th>32557</th>\n",
       "      <td>40</td>\n",
       "      <td>Private</td>\n",
       "      <td>154374</td>\n",
       "      <td>HS-grad</td>\n",
       "      <td>9</td>\n",
       "      <td>Married-civ-spouse</td>\n",
       "      <td>Machine-op-inspct</td>\n",
       "      <td>Husband</td>\n",
       "      <td>White</td>\n",
       "      <td>Male</td>\n",
       "      <td>0</td>\n",
       "      <td>0</td>\n",
       "      <td>40</td>\n",
       "      <td>United-States</td>\n",
       "      <td>&gt;50K</td>\n",
       "    </tr>\n",
       "    <tr>\n",
       "      <th>32558</th>\n",
       "      <td>58</td>\n",
       "      <td>Private</td>\n",
       "      <td>151910</td>\n",
       "      <td>HS-grad</td>\n",
       "      <td>9</td>\n",
       "      <td>Widowed</td>\n",
       "      <td>Adm-clerical</td>\n",
       "      <td>Unmarried</td>\n",
       "      <td>White</td>\n",
       "      <td>Female</td>\n",
       "      <td>0</td>\n",
       "      <td>0</td>\n",
       "      <td>40</td>\n",
       "      <td>United-States</td>\n",
       "      <td>&lt;=50K</td>\n",
       "    </tr>\n",
       "    <tr>\n",
       "      <th>32559</th>\n",
       "      <td>22</td>\n",
       "      <td>Private</td>\n",
       "      <td>201490</td>\n",
       "      <td>HS-grad</td>\n",
       "      <td>9</td>\n",
       "      <td>Never-married</td>\n",
       "      <td>Adm-clerical</td>\n",
       "      <td>Own-child</td>\n",
       "      <td>White</td>\n",
       "      <td>Male</td>\n",
       "      <td>0</td>\n",
       "      <td>0</td>\n",
       "      <td>20</td>\n",
       "      <td>United-States</td>\n",
       "      <td>&lt;=50K</td>\n",
       "    </tr>\n",
       "    <tr>\n",
       "      <th>32560</th>\n",
       "      <td>52</td>\n",
       "      <td>Self-emp-inc</td>\n",
       "      <td>287927</td>\n",
       "      <td>HS-grad</td>\n",
       "      <td>9</td>\n",
       "      <td>Married-civ-spouse</td>\n",
       "      <td>Exec-managerial</td>\n",
       "      <td>Wife</td>\n",
       "      <td>White</td>\n",
       "      <td>Female</td>\n",
       "      <td>15024</td>\n",
       "      <td>0</td>\n",
       "      <td>40</td>\n",
       "      <td>United-States</td>\n",
       "      <td>&gt;50K</td>\n",
       "    </tr>\n",
       "  </tbody>\n",
       "</table>\n",
       "<p>32561 rows × 15 columns</p>\n",
       "</div>"
      ],
      "text/plain": [
       "       age         workclass  fnlwgt   education  education-num  \\\n",
       "0       39         State-gov   77516   Bachelors             13   \n",
       "1       50  Self-emp-not-inc   83311   Bachelors             13   \n",
       "2       38           Private  215646     HS-grad              9   \n",
       "3       53           Private  234721        11th              7   \n",
       "4       28           Private  338409   Bachelors             13   \n",
       "...    ...               ...     ...         ...            ...   \n",
       "32556   27           Private  257302  Assoc-acdm             12   \n",
       "32557   40           Private  154374     HS-grad              9   \n",
       "32558   58           Private  151910     HS-grad              9   \n",
       "32559   22           Private  201490     HS-grad              9   \n",
       "32560   52      Self-emp-inc  287927     HS-grad              9   \n",
       "\n",
       "           marital-status         occupation   relationship   race     sex  \\\n",
       "0           Never-married       Adm-clerical  Not-in-family  White    Male   \n",
       "1      Married-civ-spouse    Exec-managerial        Husband  White    Male   \n",
       "2                Divorced  Handlers-cleaners  Not-in-family  White    Male   \n",
       "3      Married-civ-spouse  Handlers-cleaners        Husband  Black    Male   \n",
       "4      Married-civ-spouse     Prof-specialty           Wife  Black  Female   \n",
       "...                   ...                ...            ...    ...     ...   \n",
       "32556  Married-civ-spouse       Tech-support           Wife  White  Female   \n",
       "32557  Married-civ-spouse  Machine-op-inspct        Husband  White    Male   \n",
       "32558             Widowed       Adm-clerical      Unmarried  White  Female   \n",
       "32559       Never-married       Adm-clerical      Own-child  White    Male   \n",
       "32560  Married-civ-spouse    Exec-managerial           Wife  White  Female   \n",
       "\n",
       "       capital-gain  capital-loss  hours-per-week native-country income  \n",
       "0              2174             0              40  United-States  <=50K  \n",
       "1                 0             0              13  United-States  <=50K  \n",
       "2                 0             0              40  United-States  <=50K  \n",
       "3                 0             0              40  United-States  <=50K  \n",
       "4                 0             0              40           Cuba  <=50K  \n",
       "...             ...           ...             ...            ...    ...  \n",
       "32556             0             0              38  United-States  <=50K  \n",
       "32557             0             0              40  United-States   >50K  \n",
       "32558             0             0              40  United-States  <=50K  \n",
       "32559             0             0              20  United-States  <=50K  \n",
       "32560         15024             0              40  United-States   >50K  \n",
       "\n",
       "[32561 rows x 15 columns]"
      ]
     },
     "execution_count": 52,
     "metadata": {},
     "output_type": "execute_result"
    }
   ],
   "source": [
    "import pandas as pd\n",
    "\n",
    "# URL to the Adult Income dataset\n",
    "url = \"https://archive.ics.uci.edu/ml/machine-learning-databases/adult/adult.data\"\n",
    "\n",
    "# Column names for the dataset\n",
    "column_names = [\"age\", \"workclass\", \"fnlwgt\", \"education\", \"education-num\", \"marital-status\",\n",
    "                \"occupation\", \"relationship\", \"race\", \"sex\", \"capital-gain\", \"capital-loss\",\n",
    "                \"hours-per-week\", \"native-country\", \"income\"]\n",
    "\n",
    "# Load the dataset into a Pandas DataFrame\n",
    "df = pd.read_csv(url, names=column_names, sep=r'\\s*,\\s*', engine='python')\n",
    "df"
   ]
  },
  {
   "cell_type": "code",
   "execution_count": null,
   "metadata": {},
   "outputs": [],
   "source": []
  },
  {
   "cell_type": "code",
   "execution_count": null,
   "metadata": {},
   "outputs": [],
   "source": []
  }
 ],
 "metadata": {
  "kernelspec": {
   "display_name": "Python 3 (ipykernel)",
   "language": "python",
   "name": "python3"
  },
  "language_info": {
   "codemirror_mode": {
    "name": "ipython",
    "version": 3
   },
   "file_extension": ".py",
   "mimetype": "text/x-python",
   "name": "python",
   "nbconvert_exporter": "python",
   "pygments_lexer": "ipython3",
   "version": "3.11.4"
  }
 },
 "nbformat": 4,
 "nbformat_minor": 2
}
