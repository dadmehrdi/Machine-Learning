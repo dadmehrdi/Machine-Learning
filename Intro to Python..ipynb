{
 "cells": [
  {
   "cell_type": "markdown",
   "metadata": {},
   "source": [
    "<br><br>\n",
    "<font color='FireBrick' size='10'><b> Intro to Python</b></font>"
   ]
  },
  {
   "cell_type": "markdown",
   "metadata": {},
   "source": [
    "<font color='Gray' size='3'><b> Friday 10/20 at 10:30-11:30am</b></font>"
   ]
  },
  {
   "cell_type": "markdown",
   "metadata": {},
   "source": [
    "# Ideal Python Workshop Outline\n",
    "\n",
    "## 1. Introduction\n",
    "- **What is Python and why use it?**\n",
    "- Overview of Python's strengths and applications (e.g., web development, data analysis, artificial intelligence, automation, etc.)\n",
    "\n",
    "## 2. Setting Up\n",
    "- Installing Python\n",
    "- Introduction to the Python interpreter and basic commands\n",
    "- Setting up an IDE (e.g., PyCharm, VS Code) or Notebook environments like Jupyter\n",
    "- Virtual environments and pip (package management)\n",
    "\n",
    "## 3. Basics of Python\n",
    "- Basic data types (integers, floats, strings, booleans)\n",
    "- Variables and assignments\n",
    "- Basic input and output (e.g., `print()`, `input()`)\n",
    "\n",
    "## 4. Control Structures\n",
    "- Conditional statements (`if`, `elif`, `else`)\n",
    "- Loops (`for`, `while`)\n",
    "- List comprehensions\n",
    "\n",
    "## 5. Data Structures\n",
    "- Lists\n",
    "- Tuples\n",
    "- Sets\n",
    "- Dictionaries\n",
    "\n",
    "## 6. Functions\n",
    "- Defining functions\n",
    "- Function parameters and return values\n",
    "- Anonymous functions (lambda)\n",
    "- Built-in functions\n",
    "\n",
    "## 7. Modules and Packages\n",
    "- Using built-in modules (e.g., `math`, `datetime`, `random`)\n",
    "- Installing and using external packages\n",
    "- Creating your own modules\n",
    "\n",
    "## 8. Exception Handling\n",
    "- `try`, `except`, `else`, and `finally`\n",
    "- Handling different exception types\n",
    "- Raising exceptions\n",
    "\n",
    "## 9. Object-Oriented Programming\n",
    "- Classes and Objects\n",
    "- Attributes and Methods\n",
    "- Inheritance and Polymorphism\n",
    "- Encapsulation and Abstraction\n",
    "\n",
    "## 10. Advanced Topics\n",
    "- File handling (reading and writing files)\n",
    "- Decorators and generators\n",
    "- Working with regular expressions\n",
    "- Basic networking with Python (e.g., using the `requests` library)\n",
    "\n",
    "## 11. Specialized Topics\n",
    "- Introduction to web development with Django or Flask\n",
    "- Data analysis with Pandas and visualization with Matplotlib\n",
    "- Introduction to machine learning with libraries like scikit-learn or TensorFlow\n",
    "\n",
    "## 12. Best Practices and Tips\n",
    "- Writing clean, readable code\n",
    "- Documenting your code\n",
    "- Basic debugging techniques\n",
    "\n",
    "## 13. Final Project or Challenge\n",
    "- Depending on the length of your workshop, it might be beneficial to conclude with a hands-on project or a set of challenges that allow participants to apply what they've learned.\n",
    "\n",
    "## 14. Conclusion and Next Steps\n",
    "- Recap of what was learned\n",
    "- Resources for further learning (books, online courses, websites, etc.)\n",
    "- Encouragement to join Python communities or user groups\n"
   ]
  },
  {
   "cell_type": "markdown",
   "metadata": {},
   "source": [
    "<br><br>\n",
    "<font color='FireBrick' size='7'><b> 1. Introduction</b></font>"
   ]
  },
  {
   "cell_type": "markdown",
   "metadata": {},
   "source": [
    "# Python vs R: A Comparative Overview\n",
    "\n",
    "Both Python and R are acclaimed languages in the data science community. While they share many capabilities, especially in statistical tasks, each has its areas of strength. This document seeks to highlight some of the areas where Python often has an edge.\n",
    "\n",
    "## 1. General-Purpose Language\n",
    "\n",
    "- Python is a versatile, general-purpose language. Beyond data analysis and visualization, Python is used for web development (with frameworks like Django and Flask), software development, automation, and even game development.\n",
    "- R, in contrast, was designed primarily for statistical analysis and plotting.\n",
    "\n",
    "## 2. Deep Learning and Machine Learning\n",
    "\n",
    "- Both languages have machine learning libraries, but Python is the de facto language for deep learning due to frameworks like TensorFlow, Keras, and PyTorch. \n",
    "- Python's `scikit-learn` is a highly popular toolkit for traditional machine learning.\n",
    "\n",
    "## 3. Libraries and Frameworks\n",
    "\n",
    "- Python boasts a broader set of libraries and frameworks that cater to various domains, from web scraping (BeautifulSoup, Scrapy) to automation (Selenium, Automate) and GUI development (Tkinter, PyQt).\n",
    "\n",
    "## 4. Integration and Web Applications\n",
    "\n",
    "- Python frequently powers APIs and web applications. Tools like Flask and Django allow for seamless transition from a data model in Python to a full-fledged web application.\n",
    "\n",
    "## 5. Community and Ecosystem\n",
    "\n",
    "- Python's vast and varied community means more libraries, third-party support, frequent updates, and quicker problem-solving.\n",
    "\n",
    "## 6. Automation and Scripting\n",
    "\n",
    "- Python is renowned for its scripting and automation capabilities, supported by a rich set of built-in and third-party libraries.\n",
    "\n",
    "## 7. System Integration\n",
    "\n",
    "- Python easily integrates with other languages like C, C++, and Java, making it valuable for system-level tasks.\n",
    "\n",
    "## 8. Popularity and Job Market\n",
    "\n",
    "- Surveys, such as the Stack Overflow Developer Surveys, consistently show Python as one of the most popular and fastest-growing languages, translating into a broad job market.\n",
    "\n",
    "It's worth noting that R has its unique strengths, especially in statistics, data visualization, and certain specialized data analyses. The choice between Python and R often depends on the specific task, personal or team preferences, and the existing ecosystem of tools and skills.\n"
   ]
  },
  {
   "cell_type": "markdown",
   "metadata": {},
   "source": [
    "<br><br>\n",
    "<font color='FireBrick' size='7'><b> 2. Setting Up</b></font>"
   ]
  },
  {
   "cell_type": "markdown",
   "metadata": {},
   "source": [
    "<font color='FireBrick' size='5'><b>Python Installation Guide</b></font>\n",
    "\n",
    "Python is a versatile, high-level programming language known for its simplicity and readability. Whether you're new to programming or an experienced developer, Python offers a lot to get started with.\n",
    "\n",
    "## Steps to Install:\n",
    "\n",
    "### 1. Download Python:\n",
    "- Navigate to the [Official Python Website](https://www.python.org/downloads/).\n",
    "- Depending on your operating system (Windows, macOS, or Linux), you'll find specific download links. Always opt for the latest Python 3.x version.\n",
    "\n",
    "### 2. Install Python:\n",
    "- **Windows**:\n",
    "  - Launch the downloaded executable.\n",
    "  - Ensure you check the box that says \"Add Python to PATH\" at the bottom of the installation window. This ensures that Python is accessible from any terminal or command prompt.\n",
    "  - Click on \"Install Now\". This will install Python and the `pip` package manager.\n",
    "  \n",
    "- **macOS**:\n",
    "  - Open the downloaded `.pkg` file and follow the on-screen instructions.\n",
    "  \n",
    "- **Linux**:\n",
    "  - Python is typically pre-installed on most Linux distributions. If not, or if you wish to install a different version, you can use your distribution's package manager (like `apt` for Ubuntu).\n",
    "  - Example for Ubuntu:\n",
    "    ```bash\n",
    "    sudo apt update\n",
    "    sudo apt install python3 python3-pip\n",
    "    ```\n",
    "\n",
    "### 3. Verify Installation:\n",
    "- Open a terminal or command prompt.\n",
    "- Enter `python --version` or `python3 --version` (especially on Linux and macOS). This should display the installed version of Python.\n",
    "- Also, check `pip` by entering `pip --version` or `pip3 --version`.\n",
    "\n",
    "## Post Installation Tips:\n",
    "- **Upgrade pip**: It's a good idea to ensure you have the latest version of `pip`, the Python package manager. Run:\n",
    "  ```bash\n",
    "  pip install --upgrade pip\n"
   ]
  },
  {
   "cell_type": "markdown",
   "metadata": {},
   "source": [
    "<font color='FireBrick' size='5'><b>Jupyter Notebook Installation using Anaconda</b></font>\n",
    "\n",
    "Python Installation Guide\n",
    "\n",
    "Anaconda is a popular distribution of Python and R, designed for scientific computing, data science, and machine learning. It offers an easy way to manage packages and ensures compatibility, especially in the data science realm.\n",
    "\n",
    "## Steps to Install:\n",
    "\n",
    "### 1. Download Anaconda:\n",
    "- Visit the [Anaconda Distribution page](https://www.anaconda.com/products/distribution).\n",
    "- Download the appropriate installer based on your operating system (Windows, macOS, or Linux) and your preferred Python version (usually Python 3.x).\n",
    "\n",
    "### 2. Install Anaconda:\n",
    "- Execute the installer and follow the on-screen instructions. \n",
    "- It's recommended to opt for adding Anaconda to your PATH during installation (especially for Windows users) unless you're familiar with managing environment variables.\n",
    "- The installation will include Python, Jupyter Notebook, and a suite of data science packages.\n",
    "\n",
    "### 3. Launch Jupyter Notebook:\n",
    "- Post-installation:\n",
    "  - **Windows**: Navigate to Start Menu > Anaconda3 (64-bit) > Jupyter Notebook\n",
    "  - **macOS and Linux**: Open a terminal and enter `jupyter notebook`.\n",
    "\n",
    "### 4. Using Anaconda Navigator (Optional):\n",
    "- Anaconda also provides a GUI called **Anaconda Navigator**. This interface allows for easy launching of Jupyter Notebooks, package management, updates, and more.\n",
    "  - **Windows**: Start Menu > Anaconda3 (64-bit) > Anaconda Navigator\n",
    "  - **macOS and Linux**: Open a terminal and type `anaconda-navigator`.\n",
    "\n",
    "## Benefits of Using Anaconda:\n",
    "- **Simplified Package Management**: Anaconda incorporates `conda`, a robust package manager capable of managing both Python and non-Python libraries with intricate dependencies.\n",
    "  \n",
    "- **Isolated Environments**: `conda` allows users to craft isolated environments for various projects, ensuring no version conflicts between libraries.\n",
    "\n",
    "- **Rich Ecosystem**: Over 1,500 data science packages are available by default with Anaconda. Additionally, thousands more can be accessed from the Anaconda repository, Anaconda Cloud, and other repositories.\n",
    "\n",
    "- **Integrated Tools**: Beyond Jupyter, Anaconda offers tools like Spyder (a Python IDE), RStudio (for R programming), and more.\n",
    "\n",
    "For individuals keen on data science, machine learning, or scientific computing with Python, Anaconda delivers a comprehensive experience with minimal setup challenges.\n"
   ]
  },
  {
   "cell_type": "markdown",
   "metadata": {},
   "source": [
    "<font color='FireBrick' size='7'><b> 3. Basics of Python</b></font>"
   ]
  },
  {
   "cell_type": "markdown",
   "metadata": {},
   "source": [
    "## Basic Python Syntax"
   ]
  },
  {
   "cell_type": "code",
   "execution_count": 29,
   "metadata": {},
   "outputs": [
    {
     "name": "stdout",
     "output_type": "stream",
     "text": [
      "Hello, World!\n"
     ]
    }
   ],
   "source": [
    "print(\"Hello, World!\")"
   ]
  },
  {
   "cell_type": "markdown",
   "metadata": {},
   "source": [
    "## Variables and Data Types"
   ]
  },
  {
   "cell_type": "code",
   "execution_count": 30,
   "metadata": {},
   "outputs": [],
   "source": [
    "x = 5\n",
    "name = \"John\"\n",
    "is_active = True"
   ]
  },
  {
   "cell_type": "markdown",
   "metadata": {},
   "source": [
    "## Basic Operators"
   ]
  },
  {
   "cell_type": "code",
   "execution_count": 31,
   "metadata": {},
   "outputs": [
    {
     "name": "stdout",
     "output_type": "stream",
     "text": [
      "24\n"
     ]
    }
   ],
   "source": [
    "a = 11\n",
    "b = 13\n",
    "sum_ab = a + b\n",
    "product_ab = a * b\n",
    "print(sum_ab)"
   ]
  },
  {
   "cell_type": "markdown",
   "metadata": {},
   "source": [
    "## Strings"
   ]
  },
  {
   "cell_type": "code",
   "execution_count": 32,
   "metadata": {},
   "outputs": [
    {
     "name": "stdout",
     "output_type": "stream",
     "text": [
      "Hello World\n",
      "5\n"
     ]
    }
   ],
   "source": [
    "hello = \"Hello\"\n",
    "world = \"World\"\n",
    "print(hello + \" \" + world)\n",
    "print(len(hello))"
   ]
  },
  {
   "cell_type": "markdown",
   "metadata": {},
   "source": [
    "## Lists"
   ]
  },
  {
   "cell_type": "code",
   "execution_count": 33,
   "metadata": {},
   "outputs": [
    {
     "name": "stdout",
     "output_type": "stream",
     "text": [
      "apple\n"
     ]
    }
   ],
   "source": [
    "fruits = [\"apple\", \"banana\", \"cherry\"]\n",
    "fruits.append(\"orange\")\n",
    "print(fruits[0])"
   ]
  },
  {
   "cell_type": "markdown",
   "metadata": {},
   "source": [
    "## Control Structures"
   ]
  },
  {
   "cell_type": "markdown",
   "metadata": {},
   "source": [
    "### Conditional statements"
   ]
  },
  {
   "cell_type": "code",
   "execution_count": 34,
   "metadata": {},
   "outputs": [
    {
     "name": "stdout",
     "output_type": "stream",
     "text": [
      "5 is greater than 3\n"
     ]
    }
   ],
   "source": [
    "if 5 > 3:\n",
    "    print(\"5 is greater than 3\")\n",
    "elif 5 == 3:\n",
    "    print(\"5 is equal to 3\")\n",
    "else:\n",
    "    print(\"5 is less than 3\")"
   ]
  },
  {
   "cell_type": "markdown",
   "metadata": {},
   "source": [
    "### Loops"
   ]
  },
  {
   "cell_type": "code",
   "execution_count": 35,
   "metadata": {},
   "outputs": [
    {
     "name": "stdout",
     "output_type": "stream",
     "text": [
      "apple\n",
      "banana\n",
      "cherry\n",
      "orange\n",
      "apple\n",
      "banana\n",
      "cherry\n",
      "orange\n"
     ]
    }
   ],
   "source": [
    "for fruit in fruits:\n",
    "    print(fruit)\n",
    "\n",
    "i = 0\n",
    "while i < len(fruits):\n",
    "    print(fruits[i])\n",
    "    i += 1"
   ]
  },
  {
   "cell_type": "markdown",
   "metadata": {},
   "source": [
    "### `zip` in a `for`"
   ]
  },
  {
   "cell_type": "code",
   "execution_count": 36,
   "metadata": {},
   "outputs": [
    {
     "name": "stdout",
     "output_type": "stream",
     "text": [
      "Alice is 25 years old.\n",
      "Bob is 30 years old.\n",
      "Charlie is 35 years old.\n"
     ]
    }
   ],
   "source": [
    "names = [\"Alice\", \"Bob\", \"Charlie\"]\n",
    "ages = [25, 30, 35]\n",
    "\n",
    "for name, age in zip(names, ages):\n",
    "    print(name, \"is\", age, \"years old.\")"
   ]
  },
  {
   "cell_type": "markdown",
   "metadata": {},
   "source": [
    "## Functions"
   ]
  },
  {
   "cell_type": "code",
   "execution_count": 37,
   "metadata": {},
   "outputs": [
    {
     "name": "stdout",
     "output_type": "stream",
     "text": [
      "Hello, Alice!\n"
     ]
    }
   ],
   "source": [
    "def greet(name):\n",
    "    return \"Hello, \" + name + \"!\"\n",
    "\n",
    "print(greet(\"Alice\"))"
   ]
  },
  {
   "cell_type": "markdown",
   "metadata": {},
   "source": [
    "### Recursive Factorial Function"
   ]
  },
  {
   "cell_type": "code",
   "execution_count": 38,
   "metadata": {},
   "outputs": [
    {
     "name": "stdout",
     "output_type": "stream",
     "text": [
      "The factorial of 7 is: 5040\n"
     ]
    }
   ],
   "source": [
    "def my_lovely_factorial(n):\n",
    "    if n == 0:\n",
    "        return 1\n",
    "    else:\n",
    "        return n * my_lovely_factorial(n-1)\n",
    "\n",
    "\n",
    "number = 7\n",
    "print(f\"The factorial of {number} is: {my_lovely_factorial(number)}\")"
   ]
  },
  {
   "cell_type": "markdown",
   "metadata": {},
   "source": [
    "**NOTE**: In the print function, the `f` before the string signifies an f-string, which is a feature introduced in Python 3.6 and later. It's used for string formatting.\n",
    "\n",
    "When you use an f-string, you can embed expressions inside string literals, using {}. The expressions inside {} are evaluated at runtime and then formatted using the specified format string."
   ]
  },
  {
   "cell_type": "markdown",
   "metadata": {},
   "source": [
    "## Dictionaries"
   ]
  },
  {
   "cell_type": "code",
   "execution_count": 39,
   "metadata": {},
   "outputs": [
    {
     "name": "stdout",
     "output_type": "stream",
     "text": [
      "{'age': 30, 'is_active': True}\n"
     ]
    }
   ],
   "source": [
    "person = {\n",
    "    \"name\": \"John\",\n",
    "    \"age\": 30,\n",
    "    \"is_active\": True\n",
    "}\n",
    "\n",
    "people = {\n",
    "    \"John\": {\n",
    "        \"age\": 30,\n",
    "        \"is_active\": True\n",
    "    },\n",
    "    \"Aly\": {\n",
    "        \"age\": 27,\n",
    "        \"is_active\": False\n",
    "    }\n",
    "}\n",
    "\n",
    "print(people[\"John\"])"
   ]
  },
  {
   "cell_type": "markdown",
   "metadata": {},
   "source": [
    "## Handling Errors (Try-Except)"
   ]
  },
  {
   "cell_type": "code",
   "execution_count": 40,
   "metadata": {},
   "outputs": [
    {
     "ename": "NameError",
     "evalue": "name 'non_existent_variable' is not defined",
     "output_type": "error",
     "traceback": [
      "\u001b[0;31m---------------------------------------------------------------------------\u001b[0m",
      "\u001b[0;31mNameError\u001b[0m                                 Traceback (most recent call last)",
      "Cell \u001b[0;32mIn[40], line 1\u001b[0m\n\u001b[0;32m----> 1\u001b[0m \u001b[38;5;28mprint\u001b[39m(non_existent_variable)\n",
      "\u001b[0;31mNameError\u001b[0m: name 'non_existent_variable' is not defined"
     ]
    }
   ],
   "source": [
    "print(non_existent_variable)"
   ]
  },
  {
   "cell_type": "code",
   "execution_count": 41,
   "metadata": {},
   "outputs": [
    {
     "name": "stdout",
     "output_type": "stream",
     "text": [
      "Variable is not defined; It's okay to not be okay. :)\n"
     ]
    }
   ],
   "source": [
    "try:\n",
    "    print(non_existent_variable)\n",
    "except NameError:\n",
    "    print(\"Variable is not defined; It's okay to not be okay. :)\")"
   ]
  },
  {
   "cell_type": "markdown",
   "metadata": {},
   "source": [
    "## Classes and Objects"
   ]
  },
  {
   "cell_type": "code",
   "execution_count": 42,
   "metadata": {},
   "outputs": [
    {
     "name": "stdout",
     "output_type": "stream",
     "text": [
      "This is a red Toyota car\n"
     ]
    }
   ],
   "source": [
    "class Car:\n",
    "    def __init__(self, color, brand):\n",
    "        self.color = color\n",
    "        self.brand = brand\n",
    "\n",
    "    def display(self):\n",
    "        print(f\"This is a {self.color} {self.brand} car\")\n",
    "\n",
    "my_car = Car(\"red\", \"Toyota\")\n",
    "my_car.display()"
   ]
  },
  {
   "cell_type": "markdown",
   "metadata": {},
   "source": [
    "## File Handling"
   ]
  },
  {
   "cell_type": "code",
   "execution_count": 43,
   "metadata": {},
   "outputs": [],
   "source": [
    "with open(\"sample.txt\", \"w\") as file:\n",
    "    file.write(\"Hello, World!\")"
   ]
  },
  {
   "cell_type": "markdown",
   "metadata": {},
   "source": [
    "# Distinction between `pip` and `!pip` in Jupyter\n",
    "\n",
    "When working within a Jupyter environment, you might come across two ways to install Python packages using `pip`: \n",
    "\n",
    "1. **pip**:\n",
    "    - This is the standard command you'd use in a terminal or command prompt to install Python packages.\n",
    "    - In many Jupyter environments, `pip` commands can be executed directly without any prefix, for convenience.\n",
    "    - **Example**:\n",
    "    ```python\n",
    "    pip install us\n",
    "    ```\n",
    "\n",
    "2. **!pip**:\n",
    "    - The exclamation mark `!` is a way to run shell commands from within the Jupyter environment.\n",
    "    - This is an explicit way to tell Jupyter that you're running a shell command.\n",
    "    - **Example**:\n",
    "    ```python\n",
    "    !pip install us\n",
    "    ```\n",
    "\n",
    "### Note:\n",
    "Both methods will achieve the same result, which is to install the specified package. The `!` prefix is specific to Jupyter and a few other interactive environments, allowing you to run shell commands alongside Python code.\n",
    "\n",
    "Outside of Jupyter, in a standard terminal or command prompt on any operating system (Windows, macOS, or Linux), you'd just use `pip install <package-name>` without the `!` prefix.\n"
   ]
  },
  {
   "cell_type": "markdown",
   "metadata": {},
   "source": [
    "# Installing Packages in Jupyter Notebook"
   ]
  },
  {
   "cell_type": "code",
   "execution_count": null,
   "metadata": {},
   "outputs": [
    {
     "name": "stdout",
     "output_type": "stream",
     "text": [
      "Requirement already satisfied: requests in /Users/dadmehr/anaconda3/lib/python3.11/site-packages (2.31.0)\n",
      "Requirement already satisfied: charset-normalizer<4,>=2 in /Users/dadmehr/anaconda3/lib/python3.11/site-packages (from requests) (2.0.4)\n",
      "Requirement already satisfied: idna<4,>=2.5 in /Users/dadmehr/anaconda3/lib/python3.11/site-packages (from requests) (3.4)\n",
      "Requirement already satisfied: urllib3<3,>=1.21.1 in /Users/dadmehr/anaconda3/lib/python3.11/site-packages (from requests) (1.26.16)\n",
      "Requirement already satisfied: certifi>=2017.4.17 in /Users/dadmehr/anaconda3/lib/python3.11/site-packages (from requests) (2023.7.22)\n",
      "Requirement already satisfied: tqdm in /Users/dadmehr/anaconda3/lib/python3.11/site-packages (4.65.0)\n",
      "Requirement already satisfied: numpy in /Users/dadmehr/anaconda3/lib/python3.11/site-packages (1.24.3)\n",
      "Requirement already satisfied: pandas in /Users/dadmehr/anaconda3/lib/python3.11/site-packages (1.5.3)\n",
      "Requirement already satisfied: python-dateutil>=2.8.1 in /Users/dadmehr/anaconda3/lib/python3.11/site-packages (from pandas) (2.8.2)\n",
      "Requirement already satisfied: pytz>=2020.1 in /Users/dadmehr/anaconda3/lib/python3.11/site-packages (from pandas) (2022.7)\n",
      "Requirement already satisfied: numpy>=1.21.0 in /Users/dadmehr/anaconda3/lib/python3.11/site-packages (from pandas) (1.24.3)\n",
      "Requirement already satisfied: six>=1.5 in /Users/dadmehr/anaconda3/lib/python3.11/site-packages (from python-dateutil>=2.8.1->pandas) (1.16.0)\n",
      "Requirement already satisfied: openpyxl in /Users/dadmehr/anaconda3/lib/python3.11/site-packages (3.0.10)\n",
      "Requirement already satisfied: et_xmlfile in /Users/dadmehr/anaconda3/lib/python3.11/site-packages (from openpyxl) (1.1.0)\n",
      "Requirement already satisfied: matplotlib in /Users/dadmehr/anaconda3/lib/python3.11/site-packages (3.7.1)\n",
      "Requirement already satisfied: contourpy>=1.0.1 in /Users/dadmehr/anaconda3/lib/python3.11/site-packages (from matplotlib) (1.0.5)\n",
      "Requirement already satisfied: cycler>=0.10 in /Users/dadmehr/anaconda3/lib/python3.11/site-packages (from matplotlib) (0.11.0)\n",
      "Requirement already satisfied: fonttools>=4.22.0 in /Users/dadmehr/anaconda3/lib/python3.11/site-packages (from matplotlib) (4.25.0)\n",
      "Requirement already satisfied: kiwisolver>=1.0.1 in /Users/dadmehr/anaconda3/lib/python3.11/site-packages (from matplotlib) (1.4.4)\n",
      "Requirement already satisfied: numpy>=1.20 in /Users/dadmehr/anaconda3/lib/python3.11/site-packages (from matplotlib) (1.24.3)\n",
      "Requirement already satisfied: packaging>=20.0 in /Users/dadmehr/anaconda3/lib/python3.11/site-packages (from matplotlib) (23.0)\n",
      "Requirement already satisfied: pillow>=6.2.0 in /Users/dadmehr/anaconda3/lib/python3.11/site-packages (from matplotlib) (9.4.0)\n",
      "Requirement already satisfied: pyparsing>=2.3.1 in /Users/dadmehr/anaconda3/lib/python3.11/site-packages (from matplotlib) (3.0.9)\n",
      "Requirement already satisfied: python-dateutil>=2.7 in /Users/dadmehr/anaconda3/lib/python3.11/site-packages (from matplotlib) (2.8.2)\n",
      "Requirement already satisfied: six>=1.5 in /Users/dadmehr/anaconda3/lib/python3.11/site-packages (from python-dateutil>=2.7->matplotlib) (1.16.0)\n",
      "Requirement already satisfied: seaborn in /Users/dadmehr/anaconda3/lib/python3.11/site-packages (0.12.2)\n",
      "Requirement already satisfied: numpy!=1.24.0,>=1.17 in /Users/dadmehr/anaconda3/lib/python3.11/site-packages (from seaborn) (1.24.3)\n",
      "Requirement already satisfied: pandas>=0.25 in /Users/dadmehr/anaconda3/lib/python3.11/site-packages (from seaborn) (1.5.3)\n",
      "Requirement already satisfied: matplotlib!=3.6.1,>=3.1 in /Users/dadmehr/anaconda3/lib/python3.11/site-packages (from seaborn) (3.7.1)\n",
      "Requirement already satisfied: contourpy>=1.0.1 in /Users/dadmehr/anaconda3/lib/python3.11/site-packages (from matplotlib!=3.6.1,>=3.1->seaborn) (1.0.5)\n",
      "Requirement already satisfied: cycler>=0.10 in /Users/dadmehr/anaconda3/lib/python3.11/site-packages (from matplotlib!=3.6.1,>=3.1->seaborn) (0.11.0)\n",
      "Requirement already satisfied: fonttools>=4.22.0 in /Users/dadmehr/anaconda3/lib/python3.11/site-packages (from matplotlib!=3.6.1,>=3.1->seaborn) (4.25.0)\n",
      "Requirement already satisfied: kiwisolver>=1.0.1 in /Users/dadmehr/anaconda3/lib/python3.11/site-packages (from matplotlib!=3.6.1,>=3.1->seaborn) (1.4.4)\n",
      "Requirement already satisfied: packaging>=20.0 in /Users/dadmehr/anaconda3/lib/python3.11/site-packages (from matplotlib!=3.6.1,>=3.1->seaborn) (23.0)\n",
      "Requirement already satisfied: pillow>=6.2.0 in /Users/dadmehr/anaconda3/lib/python3.11/site-packages (from matplotlib!=3.6.1,>=3.1->seaborn) (9.4.0)\n",
      "Requirement already satisfied: pyparsing>=2.3.1 in /Users/dadmehr/anaconda3/lib/python3.11/site-packages (from matplotlib!=3.6.1,>=3.1->seaborn) (3.0.9)\n",
      "Requirement already satisfied: python-dateutil>=2.7 in /Users/dadmehr/anaconda3/lib/python3.11/site-packages (from matplotlib!=3.6.1,>=3.1->seaborn) (2.8.2)\n",
      "Requirement already satisfied: pytz>=2020.1 in /Users/dadmehr/anaconda3/lib/python3.11/site-packages (from pandas>=0.25->seaborn) (2022.7)\n",
      "Requirement already satisfied: six>=1.5 in /Users/dadmehr/anaconda3/lib/python3.11/site-packages (from python-dateutil>=2.7->matplotlib!=3.6.1,>=3.1->seaborn) (1.16.0)\n",
      "Requirement already satisfied: beautifulsoup4 in /Users/dadmehr/anaconda3/lib/python3.11/site-packages (4.12.2)\n",
      "Requirement already satisfied: soupsieve>1.2 in /Users/dadmehr/anaconda3/lib/python3.11/site-packages (from beautifulsoup4) (2.4)\n",
      "Requirement already satisfied: scrapy in /Users/dadmehr/anaconda3/lib/python3.11/site-packages (2.8.0)\n",
      "Requirement already satisfied: Twisted>=18.9.0 in /Users/dadmehr/anaconda3/lib/python3.11/site-packages (from scrapy) (22.10.0)\n",
      "Requirement already satisfied: cryptography>=3.4.6 in /Users/dadmehr/anaconda3/lib/python3.11/site-packages (from scrapy) (39.0.1)\n",
      "Requirement already satisfied: cssselect>=0.9.1 in /Users/dadmehr/anaconda3/lib/python3.11/site-packages (from scrapy) (1.1.0)\n",
      "Requirement already satisfied: itemloaders>=1.0.1 in /Users/dadmehr/anaconda3/lib/python3.11/site-packages (from scrapy) (1.0.4)\n",
      "Requirement already satisfied: parsel>=1.5.0 in /Users/dadmehr/anaconda3/lib/python3.11/site-packages (from scrapy) (1.6.0)\n",
      "Requirement already satisfied: pyOpenSSL>=21.0.0 in /Users/dadmehr/anaconda3/lib/python3.11/site-packages (from scrapy) (23.2.0)\n",
      "Requirement already satisfied: queuelib>=1.4.2 in /Users/dadmehr/anaconda3/lib/python3.11/site-packages (from scrapy) (1.5.0)\n",
      "Requirement already satisfied: service-identity>=18.1.0 in /Users/dadmehr/anaconda3/lib/python3.11/site-packages (from scrapy) (18.1.0)\n",
      "Requirement already satisfied: w3lib>=1.17.0 in /Users/dadmehr/anaconda3/lib/python3.11/site-packages (from scrapy) (1.21.0)\n",
      "Requirement already satisfied: zope.interface>=5.1.0 in /Users/dadmehr/anaconda3/lib/python3.11/site-packages (from scrapy) (5.4.0)\n",
      "Requirement already satisfied: protego>=0.1.15 in /Users/dadmehr/anaconda3/lib/python3.11/site-packages (from scrapy) (0.1.16)\n",
      "Requirement already satisfied: itemadapter>=0.1.0 in /Users/dadmehr/anaconda3/lib/python3.11/site-packages (from scrapy) (0.3.0)\n",
      "Requirement already satisfied: setuptools in /Users/dadmehr/anaconda3/lib/python3.11/site-packages (from scrapy) (68.0.0)\n",
      "Requirement already satisfied: packaging in /Users/dadmehr/anaconda3/lib/python3.11/site-packages (from scrapy) (23.0)\n",
      "Requirement already satisfied: tldextract in /Users/dadmehr/anaconda3/lib/python3.11/site-packages (from scrapy) (3.2.0)\n",
      "Requirement already satisfied: lxml>=4.3.0 in /Users/dadmehr/anaconda3/lib/python3.11/site-packages (from scrapy) (4.9.2)\n",
      "Requirement already satisfied: PyDispatcher>=2.0.5 in /Users/dadmehr/anaconda3/lib/python3.11/site-packages (from scrapy) (2.0.5)\n",
      "Requirement already satisfied: cffi>=1.12 in /Users/dadmehr/anaconda3/lib/python3.11/site-packages (from cryptography>=3.4.6->scrapy) (1.15.1)\n",
      "Requirement already satisfied: jmespath>=0.9.5 in /Users/dadmehr/anaconda3/lib/python3.11/site-packages (from itemloaders>=1.0.1->scrapy) (0.10.0)\n",
      "Requirement already satisfied: six>=1.6.0 in /Users/dadmehr/anaconda3/lib/python3.11/site-packages (from parsel>=1.5.0->scrapy) (1.16.0)\n",
      "Requirement already satisfied: attrs>=16.0.0 in /Users/dadmehr/anaconda3/lib/python3.11/site-packages (from service-identity>=18.1.0->scrapy) (22.1.0)\n",
      "Requirement already satisfied: pyasn1-modules in /Users/dadmehr/anaconda3/lib/python3.11/site-packages (from service-identity>=18.1.0->scrapy) (0.2.8)\n",
      "Requirement already satisfied: pyasn1 in /Users/dadmehr/anaconda3/lib/python3.11/site-packages (from service-identity>=18.1.0->scrapy) (0.4.8)\n"
     ]
    },
    {
     "name": "stdout",
     "output_type": "stream",
     "text": [
      "Requirement already satisfied: constantly>=15.1 in /Users/dadmehr/anaconda3/lib/python3.11/site-packages (from Twisted>=18.9.0->scrapy) (15.1.0)\n",
      "Requirement already satisfied: incremental>=21.3.0 in /Users/dadmehr/anaconda3/lib/python3.11/site-packages (from Twisted>=18.9.0->scrapy) (21.3.0)\n",
      "Requirement already satisfied: Automat>=0.8.0 in /Users/dadmehr/anaconda3/lib/python3.11/site-packages (from Twisted>=18.9.0->scrapy) (20.2.0)\n",
      "Requirement already satisfied: hyperlink>=17.1.1 in /Users/dadmehr/anaconda3/lib/python3.11/site-packages (from Twisted>=18.9.0->scrapy) (21.0.0)\n",
      "Requirement already satisfied: typing-extensions>=3.6.5 in /Users/dadmehr/anaconda3/lib/python3.11/site-packages (from Twisted>=18.9.0->scrapy) (4.8.0)\n",
      "Requirement already satisfied: idna in /Users/dadmehr/anaconda3/lib/python3.11/site-packages (from tldextract->scrapy) (3.4)\n",
      "Requirement already satisfied: requests>=2.1.0 in /Users/dadmehr/anaconda3/lib/python3.11/site-packages (from tldextract->scrapy) (2.31.0)\n",
      "Requirement already satisfied: requests-file>=1.4 in /Users/dadmehr/anaconda3/lib/python3.11/site-packages (from tldextract->scrapy) (1.5.1)\n",
      "Requirement already satisfied: filelock>=3.0.8 in /Users/dadmehr/anaconda3/lib/python3.11/site-packages (from tldextract->scrapy) (3.9.0)\n",
      "Requirement already satisfied: pycparser in /Users/dadmehr/anaconda3/lib/python3.11/site-packages (from cffi>=1.12->cryptography>=3.4.6->scrapy) (2.21)\n",
      "Requirement already satisfied: charset-normalizer<4,>=2 in /Users/dadmehr/anaconda3/lib/python3.11/site-packages (from requests>=2.1.0->tldextract->scrapy) (2.0.4)\n",
      "Requirement already satisfied: urllib3<3,>=1.21.1 in /Users/dadmehr/anaconda3/lib/python3.11/site-packages (from requests>=2.1.0->tldextract->scrapy) (1.26.16)\n",
      "Requirement already satisfied: certifi>=2017.4.17 in /Users/dadmehr/anaconda3/lib/python3.11/site-packages (from requests>=2.1.0->tldextract->scrapy) (2023.7.22)\n",
      "Requirement already satisfied: scikit-learn in /Users/dadmehr/anaconda3/lib/python3.11/site-packages (1.2.2)\n",
      "Requirement already satisfied: numpy>=1.17.3 in /Users/dadmehr/anaconda3/lib/python3.11/site-packages (from scikit-learn) (1.24.3)\n",
      "Requirement already satisfied: scipy>=1.3.2 in /Users/dadmehr/anaconda3/lib/python3.11/site-packages (from scikit-learn) (1.10.1)\n",
      "Requirement already satisfied: joblib>=1.1.1 in /Users/dadmehr/anaconda3/lib/python3.11/site-packages (from scikit-learn) (1.2.0)\n",
      "Requirement already satisfied: threadpoolctl>=2.0.0 in /Users/dadmehr/anaconda3/lib/python3.11/site-packages (from scikit-learn) (2.2.0)\n"
     ]
    }
   ],
   "source": [
    "# General Purpose and Utilities\n",
    "!pip install requests  # For making HTTP requests\n",
    "!pip install tqdm  # For progress bars\n",
    "\n",
    "# Data Analysis and Manipulation\n",
    "!pip install numpy  # For numerical operations\n",
    "!pip install pandas  # For data analysis and manipulation\n",
    "!pip install openpyxl  # For reading/writing Excel files\n",
    "\n",
    "# Data Visualization\n",
    "!pip install matplotlib  # For plotting and visualization\n",
    "!pip install seaborn  # For statistical data visualization\n",
    "\n",
    "# Web Scraping\n",
    "!pip install beautifulsoup4  # For parsing HTML and XML documents\n",
    "!pip install scrapy  # An open source and collaborative web crawling framework\n",
    "\n",
    "# Machine Learning and Data Science\n",
    "!pip install scikit-learn  # Machine learning library\n",
    "!pip install statsmodels  # For estimating and testing statistical models\n",
    "\n",
    "# Deep Learning\n",
    "!pip install tensorflow  # Open source library for numerical computation and machine learning\n",
    "!pip install keras  # High-level neural networks API, written in Python and capable of running on top of TensorFlow\n",
    "\n",
    "# Natural Language Processing\n",
    "!pip install nltk  # Natural language toolkit\n",
    "!pip install spacy  # For advanced natural language processing\n",
    "\n",
    "# Web Development\n",
    "!pip install flask  # A micro web framework written in Python\n",
    "!pip install django  # A high-level Python web framework\n",
    "\n",
    "# Databases\n",
    "!pip install sqlalchemy  # For SQL toolkit and Object-Relational Mapping (ORM) library for Python\n",
    "!pip install psycopg2  # PostgreSQL adapter for Python\n",
    "!pip install pymongo  # Python driver for MongoDB\n",
    "\n",
    "# Others\n",
    "!pip install pillow  # Python Imaging Library (For handling images)\n",
    "!pip install pytz  # For timezone definitions\n",
    "!pip install jupyter  # For Jupyter notebook and related tools\n"
   ]
  },
  {
   "cell_type": "markdown",
   "metadata": {},
   "source": [
    "## Modules and Libraries"
   ]
  },
  {
   "cell_type": "code",
   "execution_count": null,
   "metadata": {},
   "outputs": [],
   "source": [
    "import math\n",
    "print(math.sqrt(25))"
   ]
  },
  {
   "cell_type": "markdown",
   "metadata": {},
   "source": [
    "# 4x4 Random Matrix Generation and Inversion with Fixed Seed"
   ]
  },
  {
   "cell_type": "code",
   "execution_count": null,
   "metadata": {},
   "outputs": [],
   "source": [
    "import numpy as np\n",
    "\n",
    "\n",
    "# Set a seed for reproducibility\n",
    "np.random.seed(2)\n",
    "\n",
    "# Create a 4x4 random matrix\n",
    "matrix = np.random.rand(4, 4)\n",
    "\n",
    "# Print the random matrix\n",
    "print(\"Random 4x4 Matrix:\")\n",
    "print(matrix)\n",
    "print(\"\\n\")\n",
    "\n",
    "# Find its inverse\n",
    "try:\n",
    "    inverse_matrix = np.linalg.inv(matrix)\n",
    "    print(\"Inverse of the Matrix:\")\n",
    "    print(inverse_matrix)\n",
    "except np.linalg.LinAlgError:\n",
    "    print(\"The matrix is singular and does not have an inverse.\")"
   ]
  },
  {
   "cell_type": "code",
   "execution_count": null,
   "metadata": {},
   "outputs": [],
   "source": [
    "import numpy as np\n",
    "import matplotlib.pyplot as plt\n",
    "\n",
    "# Generate x values\n",
    "x = np.linspace(-10, 10, 50)\n",
    "\n",
    "# Calculate y values\n",
    "y = x**2\n",
    "\n",
    "# Plotting\n",
    "plt.plot(x, y, label='y = x^2')\n",
    "plt.title('Plot of y = x^2')\n",
    "plt.xlabel('x')\n",
    "plt.ylabel('y')\n",
    "plt.grid(True)\n",
    "plt.legend()\n",
    "plt.show()\n"
   ]
  },
  {
   "cell_type": "code",
   "execution_count": null,
   "metadata": {},
   "outputs": [],
   "source": [
    "import numpy as np\n",
    "import matplotlib.pyplot as plt\n",
    "\n",
    "# Create a figure and 3D axis\n",
    "fig = plt.figure(figsize=(8, 6))\n",
    "ax = fig.add_subplot(111, projection='3d')\n",
    "\n",
    "# Generate t values\n",
    "t = np.linspace(0, 6 * np.pi, 300)\n",
    "\n",
    "# Calculate the x, y and z values for the electromagnetic wave\n",
    "x = t\n",
    "y = np.sin(t)\n",
    "z = np.cos(t)\n",
    "\n",
    "# Plot the wave\n",
    "ax.plot(x, y, z, lw=2, color='blue', label=\"Electromagnetic Wave\")\n",
    "\n",
    "# Setting labels and title\n",
    "ax.set_title(\"3D Spiral Electromagnetic Wave\", fontsize=16)\n",
    "ax.set_xlabel(\"Propagation Direction (x)\", fontsize=8)\n",
    "ax.set_ylabel(\"Electric Field (y)\", fontsize=8)\n",
    "ax.set_zlabel(\"Magnetic Field (z)\", fontsize=8)\n",
    "ax.legend()\n",
    "\n",
    "plt.show()\n"
   ]
  },
  {
   "cell_type": "markdown",
   "metadata": {},
   "source": [
    "# Visualizing Local Minima and Maxima of a Polynomial Function with Tangent Lines"
   ]
  },
  {
   "cell_type": "markdown",
   "metadata": {},
   "source": [
    "The code defines a polynomial function, computes its local minima and maxima by setting the derivative to zero, and then visualizes the function alongside its tangent lines at the minima and maxima. The title aptly summarizes the key operations and the visualization outcome of the code."
   ]
  },
  {
   "cell_type": "code",
   "execution_count": null,
   "metadata": {},
   "outputs": [],
   "source": [
    "import numpy as np\n",
    "import matplotlib.pyplot as plt\n",
    "\n",
    "# Define the polynomial function and its derivative\n",
    "def f(x):\n",
    "    return x**5 - 2*x**4 + x**2\n",
    "\n",
    "def df(x):\n",
    "    return 5*x**4 - 8*x**3 + 2*x\n",
    "\n",
    "# Find potential minima/maxima by solving for where the derivative equals zero\n",
    "roots = np.roots([5, -8, 0, 2, 0])\n",
    "\n",
    "# Filter only real roots\n",
    "real_roots = roots[np.isreal(roots)].real\n",
    "\n",
    "# Determine function values at the roots\n",
    "values = f(real_roots)\n",
    "\n",
    "# Generate x values for plotting\n",
    "x = np.linspace(-1, 1.9, 400)\n",
    "y = f(x)\n",
    "\n",
    "# Create the plot\n",
    "fig, ax = plt.subplots()\n",
    "\n",
    "# Plot the function\n",
    "ax.plot(x, y, label='f(x) = $x^5 - 2x^4 + x^2$')\n",
    "\n",
    "# Plot the minima/maxima\n",
    "ax.scatter(real_roots, values, color='red')\n",
    "\n",
    "# For each min/max, plot a tangent line\n",
    "for root, value in zip(real_roots, values):\n",
    "    ax.plot([root - 0.2, root + 0.2], [value, value], color='green')\n",
    "\n",
    "ax.set_title('Polynomial with Local Minima and Maxima')\n",
    "ax.set_xlabel('x')\n",
    "ax.set_ylabel('f(x)')\n",
    "ax.set_ylim(-2, 2)  # Set y-axis limits\n",
    "ax.legend()\n",
    "ax.grid(True)\n",
    "plt.show()\n"
   ]
  },
  {
   "cell_type": "markdown",
   "metadata": {},
   "source": [
    "# Demonstrating Different Merge Types in Pandas with Random Data"
   ]
  },
  {
   "cell_type": "markdown",
   "metadata": {},
   "source": [
    "The code provides a clear demonstration of how to use the merge function in pandas to achieve different types of joins (left, right, outer, inner) using random data. The title reflects this purpose."
   ]
  },
  {
   "cell_type": "markdown",
   "metadata": {},
   "source": [
    "<img src=\"all-joins.png\" alt=\"all-joins\" width=\"500\" style=\"float:left;\"/>"
   ]
  },
  {
   "cell_type": "markdown",
   "metadata": {},
   "source": [
    "from https://community.qlik.com/t5/QlikView-App-Dev/Joining-Data-lineage-QVX-files/td-p/864278"
   ]
  },
  {
   "cell_type": "code",
   "execution_count": null,
   "metadata": {},
   "outputs": [],
   "source": [
    "import pandas as pd\n",
    "import numpy as np\n",
    "\n",
    "# Random seed for reproducibility\n",
    "np.random.seed(0)\n",
    "\n",
    "# List of real names\n",
    "names_list = ['Alice', 'Bob', 'Charlie', 'David', 'Eve', 'Frank', 'Grace', 'Hannah', 'Isaac', 'Jack', 'Kara', 'Liam', 'Mona', 'Nina', 'Oscar']\n",
    "\n",
    "# Create a table with random IDs and random names from the names_list\n",
    "ids_names = pd.DataFrame({\n",
    "    'ID': np.random.choice(20, 10, replace=False),  # Random unique IDs between 0 and 20\n",
    "    'Name': np.random.choice(names_list, 10, replace=False)  # Random unique names from names_list\n",
    "})\n",
    "\n",
    "# Create another table with incomes for some of those IDs\n",
    "ids_incomes = pd.DataFrame({\n",
    "    'ID': np.random.choice(20, 8, replace=False),  # Random unique IDs between 0 and 20 but only 8 of them\n",
    "    'Income': np.random.randint(30000, 100000, 8)  # Random incomes between 30,000 and 100,000\n",
    "})\n",
    "\n",
    "# Left merge\n",
    "left_merged = pd.merge(ids_names, ids_incomes, on='ID', how='left')\n",
    "\n",
    "# Right merge\n",
    "right_merged = pd.merge(ids_names, ids_incomes, on='ID', how='right')\n",
    "\n",
    "# Outer merge\n",
    "outer_merged = pd.merge(ids_names, ids_incomes, on='ID', how='outer')\n",
    "\n",
    "# Inner merge\n",
    "inner_merged = pd.merge(ids_names, ids_incomes, on='ID', how='inner')\n",
    "\n",
    "print(\"Left Merge:\")\n",
    "print(left_merged)\n",
    "print(\"\\nRight Merge:\")\n",
    "print(right_merged)\n",
    "print(\"\\nOuter Merge:\")\n",
    "print(outer_merged)\n",
    "print(\"\\nInner Merge:\")\n",
    "print(inner_merged)\n"
   ]
  },
  {
   "cell_type": "markdown",
   "metadata": {},
   "source": [
    "# Survival Analysis with scikit-survival"
   ]
  },
  {
   "cell_type": "code",
   "execution_count": null,
   "metadata": {},
   "outputs": [],
   "source": [
    "import matplotlib.pyplot as plt\n",
    "from sksurv.datasets import load_veterans_lung_cancer\n",
    "from sksurv.nonparametric import kaplan_meier_estimator\n",
    "from sksurv.preprocessing import OneHotEncoder\n",
    "\n",
    "# Load data\n",
    "data_x, data_y = load_veterans_lung_cancer()\n",
    "\n",
    "# Kaplan Meier estimator for overall survival\n",
    "time, survival_prob = kaplan_meier_estimator(data_y[\"Status\"], data_y[\"Survival_in_days\"])\n",
    "plt.step(time, survival_prob, where=\"post\", label=\"Overall Survival\")\n",
    "\n",
    "# Kaplan Meier estimator based on treatment type\n",
    "for treatment_type in (\"standard\", \"test\"):\n",
    "    mask_treat = data_x[\"Treatment\"] == treatment_type\n",
    "    time_treatment, survival_prob_treatment = kaplan_meier_estimator(data_y[\"Status\"][mask_treat], data_y[\"Survival_in_days\"][mask_treat])\n",
    "    plt.step(time_treatment, survival_prob_treatment, where=\"post\", label=f\"Treatment = {treatment_type}\")\n",
    "\n",
    "# Displaying the survival curves\n",
    "plt.ylim(0, 1)\n",
    "plt.ylabel(\"Est. Probability of Survival $\\hat{S}(t)$\")\n",
    "plt.xlabel(\"Time $t$\")\n",
    "plt.legend(loc=\"best\")\n",
    "plt.show()\n",
    "\n",
    "# Convert categorical data to numeric\n",
    "data_x_numeric = OneHotEncoder().fit_transform(data_x)\n",
    "print(data_x_numeric.head())\n"
   ]
  },
  {
   "cell_type": "code",
   "execution_count": null,
   "metadata": {},
   "outputs": [],
   "source": []
  },
  {
   "cell_type": "code",
   "execution_count": null,
   "metadata": {},
   "outputs": [],
   "source": [
    "import pandas as pd\n",
    "\n",
    "# URL to the Adult Income dataset\n",
    "url = \"https://archive.ics.uci.edu/ml/machine-learning-databases/adult/adult.data\"\n",
    "\n",
    "# Column names for the dataset\n",
    "column_names = [\"age\", \"workclass\", \"fnlwgt\", \"education\", \"education-num\", \"marital-status\",\n",
    "                \"occupation\", \"relationship\", \"race\", \"sex\", \"capital-gain\", \"capital-loss\",\n",
    "                \"hours-per-week\", \"native-country\", \"income\"]\n",
    "\n",
    "# Load the dataset into a Pandas DataFrame\n",
    "df = pd.read_csv(url, names=column_names, sep=r'\\s*,\\s*', engine='python')\n",
    "df"
   ]
  },
  {
   "cell_type": "code",
   "execution_count": null,
   "metadata": {},
   "outputs": [],
   "source": []
  },
  {
   "cell_type": "code",
   "execution_count": null,
   "metadata": {},
   "outputs": [],
   "source": []
  }
 ],
 "metadata": {
  "kernelspec": {
   "display_name": "Python 3 (ipykernel)",
   "language": "python",
   "name": "python3"
  },
  "language_info": {
   "codemirror_mode": {
    "name": "ipython",
    "version": 3
   },
   "file_extension": ".py",
   "mimetype": "text/x-python",
   "name": "python",
   "nbconvert_exporter": "python",
   "pygments_lexer": "ipython3",
   "version": "3.11.4"
  }
 },
 "nbformat": 4,
 "nbformat_minor": 2
}
